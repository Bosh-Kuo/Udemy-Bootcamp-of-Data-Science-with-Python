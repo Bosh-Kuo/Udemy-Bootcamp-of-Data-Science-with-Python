{
 "cells": [
  {
   "cell_type": "markdown",
   "source": [
    "## 1. Use the pd.read_csv () function to load the insurance.csv dataset, attached in this lesson; store in a variable"
   ],
   "metadata": {}
  },
  {
   "cell_type": "code",
   "execution_count": 1,
   "source": [
    "import pandas as pd\n",
    "df = pd.read_csv('insurance.csv')\n",
    "print(df)"
   ],
   "outputs": [
    {
     "output_type": "stream",
     "name": "stdout",
     "text": [
      "      age     sex     bmi  children smoker     region      charges\n",
      "0      19  female  27.900         0    yes  southwest  16884.92400\n",
      "1      18    male  33.770         1     no  southeast   1725.55230\n",
      "2      28    male  33.000         3     no  southeast   4449.46200\n",
      "3      33    male  22.705         0     no  northwest  21984.47061\n",
      "4      32    male  28.880         0     no  northwest   3866.85520\n",
      "...   ...     ...     ...       ...    ...        ...          ...\n",
      "1333   50    male  30.970         3     no  northwest  10600.54830\n",
      "1334   18  female  31.920         0     no  northeast   2205.98080\n",
      "1335   18  female  36.850         0     no  southeast   1629.83350\n",
      "1336   21  female  25.800         0     no  southwest   2007.94500\n",
      "1337   61  female  29.070         0    yes  northwest  29141.36030\n",
      "\n",
      "[1338 rows x 7 columns]\n"
     ]
    }
   ],
   "metadata": {}
  },
  {
   "cell_type": "markdown",
   "source": [
    "## 2. Show the number of rows and columns (shape)"
   ],
   "metadata": {}
  },
  {
   "cell_type": "code",
   "execution_count": 2,
   "source": [
    "print(\"shape of df\",df.shape)"
   ],
   "outputs": [
    {
     "output_type": "stream",
     "name": "stdout",
     "text": [
      "shape of df (1338, 7)\n"
     ]
    }
   ],
   "metadata": {}
  },
  {
   "cell_type": "markdown",
   "source": [
    "## 3. Show basic information of the dataset with the info () function"
   ],
   "metadata": {}
  },
  {
   "cell_type": "code",
   "execution_count": 3,
   "source": [
    "print(df.info())"
   ],
   "outputs": [
    {
     "output_type": "stream",
     "name": "stdout",
     "text": [
      "<class 'pandas.core.frame.DataFrame'>\n",
      "RangeIndex: 1338 entries, 0 to 1337\n",
      "Data columns (total 7 columns):\n",
      " #   Column    Non-Null Count  Dtype  \n",
      "---  ------    --------------  -----  \n",
      " 0   age       1338 non-null   int64  \n",
      " 1   sex       1338 non-null   object \n",
      " 2   bmi       1338 non-null   float64\n",
      " 3   children  1338 non-null   int64  \n",
      " 4   smoker    1338 non-null   object \n",
      " 5   region    1338 non-null   object \n",
      " 6   charges   1338 non-null   float64\n",
      "dtypes: float64(2), int64(2), object(3)\n",
      "memory usage: 73.3+ KB\n",
      "None\n"
     ]
    }
   ],
   "metadata": {}
  },
  {
   "cell_type": "markdown",
   "source": [
    "## 4. Show the dtype of each column"
   ],
   "metadata": {}
  },
  {
   "cell_type": "code",
   "execution_count": 4,
   "source": [
    "print(df.dtypes)"
   ],
   "outputs": [
    {
     "output_type": "stream",
     "name": "stdout",
     "text": [
      "age           int64\n",
      "sex          object\n",
      "bmi         float64\n",
      "children      int64\n",
      "smoker       object\n",
      "region       object\n",
      "charges     float64\n",
      "dtype: object\n"
     ]
    }
   ],
   "metadata": {}
  },
  {
   "cell_type": "markdown",
   "source": [
    "## 5. Show the columns of the dataset"
   ],
   "metadata": {}
  },
  {
   "cell_type": "code",
   "execution_count": 5,
   "source": [
    "print(df.columns)"
   ],
   "outputs": [
    {
     "output_type": "stream",
     "name": "stdout",
     "text": [
      "Index(['age', 'sex', 'bmi', 'children', 'smoker', 'region', 'charges'], dtype='object')\n"
     ]
    }
   ],
   "metadata": {}
  },
  {
   "cell_type": "markdown",
   "source": [
    "## 6. Show statistical information in the 'age' column"
   ],
   "metadata": {}
  },
  {
   "cell_type": "code",
   "execution_count": 6,
   "source": [
    "print(df['age'].describe())"
   ],
   "outputs": [
    {
     "output_type": "stream",
     "name": "stdout",
     "text": [
      "count    1338.000000\n",
      "mean       39.207025\n",
      "std        14.049960\n",
      "min        18.000000\n",
      "25%        27.000000\n",
      "50%        39.000000\n",
      "75%        51.000000\n",
      "max        64.000000\n",
      "Name: age, dtype: float64\n"
     ]
    }
   ],
   "metadata": {}
  },
  {
   "cell_type": "markdown",
   "source": [
    "## 7. Print the unique values ​​for each column, with the exception of the 'bmi' column"
   ],
   "metadata": {}
  },
  {
   "cell_type": "code",
   "execution_count": 7,
   "source": [
    "for col in df:\n",
    "    if col == 'bmi':\n",
    "        continue\n",
    "    else:\n",
    "        print(col.upper())\n",
    "        print(df[col].unique())\n",
    "        print()"
   ],
   "outputs": [
    {
     "output_type": "stream",
     "name": "stdout",
     "text": [
      "AGE\n",
      "[19 18 28 33 32 31 46 37 60 25 62 23 56 27 52 30 34 59 63 55 22 26 35 24\n",
      " 41 38 36 21 48 40 58 53 43 64 20 61 44 57 29 45 54 49 47 51 42 50 39]\n",
      "\n",
      "SEX\n",
      "['female' 'male']\n",
      "\n",
      "CHILDREN\n",
      "[0 1 3 2 5 4]\n",
      "\n",
      "SMOKER\n",
      "['yes' 'no']\n",
      "\n",
      "REGION\n",
      "['southwest' 'southeast' 'northwest' 'northeast']\n",
      "\n",
      "CHARGES\n",
      "[16884.924   1725.5523  4449.462  ...  1629.8335  2007.945  29141.3603]\n",
      "\n"
     ]
    }
   ],
   "metadata": {}
  },
  {
   "cell_type": "markdown",
   "source": [
    "## 8. Show the age distribution (use: value_counts())"
   ],
   "metadata": {}
  },
  {
   "cell_type": "code",
   "execution_count": 8,
   "source": [
    "print(df['age'].value_counts().sort_index())"
   ],
   "outputs": [
    {
     "output_type": "stream",
     "name": "stdout",
     "text": [
      "18    69\n",
      "19    68\n",
      "20    29\n",
      "21    28\n",
      "22    28\n",
      "23    28\n",
      "24    28\n",
      "25    28\n",
      "26    28\n",
      "27    28\n",
      "28    28\n",
      "29    27\n",
      "30    27\n",
      "31    27\n",
      "32    26\n",
      "33    26\n",
      "34    26\n",
      "35    25\n",
      "36    25\n",
      "37    25\n",
      "38    25\n",
      "39    25\n",
      "40    27\n",
      "41    27\n",
      "42    27\n",
      "43    27\n",
      "44    27\n",
      "45    29\n",
      "46    29\n",
      "47    29\n",
      "48    29\n",
      "49    28\n",
      "50    29\n",
      "51    29\n",
      "52    29\n",
      "53    28\n",
      "54    28\n",
      "55    26\n",
      "56    26\n",
      "57    26\n",
      "58    25\n",
      "59    25\n",
      "60    23\n",
      "61    23\n",
      "62    23\n",
      "63    23\n",
      "64    22\n",
      "Name: age, dtype: int64\n"
     ]
    }
   ],
   "metadata": {}
  },
  {
   "cell_type": "markdown",
   "source": [
    "## 9. Check for missing data in the dataset"
   ],
   "metadata": {}
  },
  {
   "cell_type": "code",
   "execution_count": 9,
   "source": [
    "print(df.isna().sum())"
   ],
   "outputs": [
    {
     "output_type": "stream",
     "name": "stdout",
     "text": [
      "age         0\n",
      "sex         0\n",
      "bmi         0\n",
      "children    0\n",
      "smoker      0\n",
      "region      0\n",
      "charges     0\n",
      "dtype: int64\n"
     ]
    }
   ],
   "metadata": {}
  },
  {
   "cell_type": "markdown",
   "source": [
    "## 10. Check for duplicate rows in the DataFrame, if there are duplicate rows delete"
   ],
   "metadata": {}
  },
  {
   "cell_type": "code",
   "execution_count": 11,
   "source": [
    "print(df[df.duplicated()])\n",
    "df = df.drop_duplicates()"
   ],
   "outputs": [
    {
     "output_type": "stream",
     "name": "stdout",
     "text": [
      "     age   sex    bmi  children smoker     region    charges\n",
      "581   19  male  30.59         0     no  northwest  1639.5631\n"
     ]
    }
   ],
   "metadata": {}
  },
  {
   "cell_type": "markdown",
   "source": [
    "## 11. Show the variables with the data type object"
   ],
   "metadata": {}
  },
  {
   "cell_type": "code",
   "execution_count": 12,
   "source": [
    "print(df.select_dtypes(include = 'object'))"
   ],
   "outputs": [
    {
     "output_type": "stream",
     "name": "stdout",
     "text": [
      "         sex smoker     region\n",
      "0     female    yes  southwest\n",
      "1       male     no  southeast\n",
      "2       male     no  southeast\n",
      "3       male     no  northwest\n",
      "4       male     no  northwest\n",
      "...      ...    ...        ...\n",
      "1333    male     no  northwest\n",
      "1334  female     no  northeast\n",
      "1335  female     no  southeast\n",
      "1336  female     no  southwest\n",
      "1337  female    yes  northwest\n",
      "\n",
      "[1337 rows x 3 columns]\n"
     ]
    }
   ],
   "metadata": {}
  },
  {
   "cell_type": "markdown",
   "source": [
    "## 12. Show only the numeric columns of the dataset"
   ],
   "metadata": {}
  },
  {
   "cell_type": "code",
   "execution_count": 13,
   "source": [
    "print(df.select_dtypes(include = ['float', 'int']))"
   ],
   "outputs": [
    {
     "output_type": "stream",
     "name": "stdout",
     "text": [
      "      age     bmi  children      charges\n",
      "0      19  27.900         0  16884.92400\n",
      "1      18  33.770         1   1725.55230\n",
      "2      28  33.000         3   4449.46200\n",
      "3      33  22.705         0  21984.47061\n",
      "4      32  28.880         0   3866.85520\n",
      "...   ...     ...       ...          ...\n",
      "1333   50  30.970         3  10600.54830\n",
      "1334   18  31.920         0   2205.98080\n",
      "1335   18  36.850         0   1629.83350\n",
      "1336   21  25.800         0   2007.94500\n",
      "1337   61  29.070         0  29141.36030\n",
      "\n",
      "[1337 rows x 4 columns]\n"
     ]
    }
   ],
   "metadata": {}
  },
  {
   "cell_type": "markdown",
   "source": [
    "## 13. Convert the numeric columns to a list"
   ],
   "metadata": {}
  },
  {
   "cell_type": "code",
   "execution_count": 14,
   "source": [
    "numerical_columns = df.select_dtypes(include = ['float', 'int']).columns.tolist()\n",
    "print(numerical_columns)"
   ],
   "outputs": [
    {
     "output_type": "stream",
     "name": "stdout",
     "text": [
      "['age', 'bmi', 'children', 'charges']\n"
     ]
    }
   ],
   "metadata": {}
  },
  {
   "cell_type": "markdown",
   "source": [
    "## 14. Convert non-numeric columns to a list"
   ],
   "metadata": {}
  },
  {
   "cell_type": "code",
   "execution_count": 15,
   "source": [
    "categorical_columns = df.select_dtypes(include = 'object').columns.tolist()\n",
    "print(categorical_columns)"
   ],
   "outputs": [
    {
     "output_type": "stream",
     "name": "stdout",
     "text": [
      "['sex', 'smoker', 'region']\n"
     ]
    }
   ],
   "metadata": {}
  },
  {
   "cell_type": "markdown",
   "source": [
    "## 15. Convert the dtype of the sex, smoker and region variables to category; double check the column dtype"
   ],
   "metadata": {}
  },
  {
   "cell_type": "code",
   "execution_count": 17,
   "source": [
    "for column in categorical_columns:\n",
    "    df[column] = df[column].astype('category')\n",
    "    \n",
    "print(df.dtypes)\n"
   ],
   "outputs": [
    {
     "output_type": "stream",
     "name": "stdout",
     "text": [
      "age            int64\n",
      "sex         category\n",
      "bmi          float64\n",
      "children       int64\n",
      "smoker      category\n",
      "region      category\n",
      "charges      float64\n",
      "dtype: object\n"
     ]
    },
    {
     "output_type": "stream",
     "name": "stderr",
     "text": [
      "<ipython-input-17-ede04fecb3ae>:2: SettingWithCopyWarning: \n",
      "A value is trying to be set on a copy of a slice from a DataFrame.\n",
      "Try using .loc[row_indexer,col_indexer] = value instead\n",
      "\n",
      "See the caveats in the documentation: https://pandas.pydata.org/pandas-docs/stable/user_guide/indexing.html#returning-a-view-versus-a-copy\n",
      "  df[column] = df[column].astype('category')\n"
     ]
    }
   ],
   "metadata": {}
  },
  {
   "cell_type": "markdown",
   "source": [
    "## 16. Show descriptive statistics for categorical columns"
   ],
   "metadata": {}
  },
  {
   "cell_type": "code",
   "execution_count": 18,
   "source": [
    "print(df[categorical_columns].describe().T)"
   ],
   "outputs": [
    {
     "output_type": "stream",
     "name": "stdout",
     "text": [
      "       count unique        top  freq\n",
      "sex     1337      2       male   675\n",
      "smoker  1337      2         no  1063\n",
      "region  1337      4  southeast   364\n"
     ]
    }
   ],
   "metadata": {}
  },
  {
   "cell_type": "markdown",
   "source": [
    "## 17. Show descriptive statistics for numerical columns"
   ],
   "metadata": {}
  },
  {
   "cell_type": "code",
   "execution_count": 19,
   "source": [
    "print(df[numerical_columns].describe().T)"
   ],
   "outputs": [
    {
     "output_type": "stream",
     "name": "stdout",
     "text": [
      "           count          mean           std        min       25%        50%  \\\n",
      "age       1337.0     39.222139     14.044333    18.0000    27.000    39.0000   \n",
      "bmi       1337.0     30.663452      6.100468    15.9600    26.290    30.4000   \n",
      "children  1337.0      1.095737      1.205571     0.0000     0.000     1.0000   \n",
      "charges   1337.0  13279.121487  12110.359656  1121.8739  4746.344  9386.1613   \n",
      "\n",
      "                  75%          max  \n",
      "age          51.00000     64.00000  \n",
      "bmi          34.70000     53.13000  \n",
      "children      2.00000      5.00000  \n",
      "charges   16657.71745  63770.42801  \n"
     ]
    }
   ],
   "metadata": {}
  },
  {
   "cell_type": "markdown",
   "source": [
    "## 18. Show the proportion between men and women"
   ],
   "metadata": {}
  },
  {
   "cell_type": "code",
   "execution_count": 20,
   "source": [
    "print(df['sex'].value_counts())"
   ],
   "outputs": [
    {
     "output_type": "stream",
     "name": "stdout",
     "text": [
      "male      675\n",
      "female    662\n",
      "Name: sex, dtype: int64\n"
     ]
    }
   ],
   "metadata": {}
  },
  {
   "cell_type": "markdown",
   "source": [
    "## 19. Return all persons aged 62 or over"
   ],
   "metadata": {}
  },
  {
   "cell_type": "code",
   "execution_count": 21,
   "source": [
    "print(df.loc[df['age']>=62])"
   ],
   "outputs": [
    {
     "output_type": "stream",
     "name": "stdout",
     "text": [
      "      age     sex     bmi  children smoker     region      charges\n",
      "11     62  female  26.290         0    yes  southeast  27808.72510\n",
      "26     63  female  23.085         0     no  northeast  14451.83515\n",
      "33     63    male  28.310         0     no  northwest  13770.09790\n",
      "36     62  female  32.965         3     no  northwest  15612.19335\n",
      "62     64    male  24.700         1     no  northwest  30166.61817\n",
      "...   ...     ...     ...       ...    ...        ...          ...\n",
      "1241   64    male  36.960         2    yes  southeast  49577.66240\n",
      "1265   64    male  23.760         0    yes  southeast  26926.51440\n",
      "1301   62    male  30.875         3    yes  northwest  46718.16325\n",
      "1321   62    male  26.695         0    yes  northeast  28101.33305\n",
      "1322   62    male  38.830         0     no  southeast  12981.34570\n",
      "\n",
      "[68 rows x 7 columns]\n"
     ]
    }
   ],
   "metadata": {}
  },
  {
   "cell_type": "markdown",
   "source": [
    "## 20. Return all persons aged 18 years old"
   ],
   "metadata": {}
  },
  {
   "cell_type": "code",
   "execution_count": 22,
   "source": [
    "print(df.loc[df['age'] == 18])"
   ],
   "outputs": [
    {
     "output_type": "stream",
     "name": "stdout",
     "text": [
      "      age     sex     bmi  children smoker     region      charges\n",
      "1      18    male  33.770         1     no  southeast   1725.55230\n",
      "22     18    male  34.100         0     no  southeast   1137.01100\n",
      "31     18  female  26.315         0     no  northeast   2198.18985\n",
      "46     18  female  38.665         2     no  northeast   3393.35635\n",
      "50     18  female  35.625         0     no  northeast   2211.13075\n",
      "...   ...     ...     ...       ...    ...        ...          ...\n",
      "1296   18    male  26.125         0     no  northeast   1708.92575\n",
      "1315   18    male  28.310         1     no  northeast  11272.33139\n",
      "1317   18    male  53.130         0     no  southeast   1163.46270\n",
      "1334   18  female  31.920         0     no  northeast   2205.98080\n",
      "1335   18  female  36.850         0     no  southeast   1629.83350\n",
      "\n",
      "[69 rows x 7 columns]\n"
     ]
    }
   ],
   "metadata": {}
  },
  {
   "cell_type": "markdown",
   "source": [
    "## 21. Count how many people reside in the 'southwest' region"
   ],
   "metadata": {}
  },
  {
   "cell_type": "code",
   "execution_count": 23,
   "source": [
    "print(df.loc[df['region']=='southwest'].shape[0])"
   ],
   "outputs": [
    {
     "output_type": "stream",
     "name": "stdout",
     "text": [
      "325\n"
     ]
    }
   ],
   "metadata": {}
  },
  {
   "cell_type": "markdown",
   "source": [
    "## 22. Order the DataFrame by the 'age' column in ascending order"
   ],
   "metadata": {}
  },
  {
   "cell_type": "code",
   "execution_count": 25,
   "source": [
    "df = df.sort_values(by = 'age', ascending = True)\n",
    "print(df)"
   ],
   "outputs": [
    {
     "output_type": "stream",
     "name": "stdout",
     "text": [
      "      age     sex     bmi  children smoker     region      charges\n",
      "866    18    male  37.290         0     no  southeast   1141.44510\n",
      "911    18    male  31.730         0    yes  northeast  33732.68670\n",
      "1248   18  female  39.820         0     no  southeast   1633.96180\n",
      "781    18    male  41.140         0     no  southeast   1146.79660\n",
      "600    18  female  39.160         0     no  southeast   1633.04440\n",
      "...   ...     ...     ...       ...    ...        ...          ...\n",
      "1241   64    male  36.960         2    yes  southeast  49577.66240\n",
      "378    64  female  30.115         3     no  northwest  16455.70785\n",
      "752    64    male  37.905         0     no  northwest  14210.53595\n",
      "335    64    male  34.500         0     no  southwest  13822.80300\n",
      "664    64  female  22.990         0    yes  southeast  27037.91410\n",
      "\n",
      "[1337 rows x 7 columns]\n"
     ]
    }
   ],
   "metadata": {}
  },
  {
   "cell_type": "markdown",
   "source": [
    "## 23. Visualize the age distribution using a plot boxplot"
   ],
   "metadata": {}
  },
  {
   "cell_type": "code",
   "execution_count": 26,
   "source": [
    "df['age'].plot(kind = 'box');\n"
   ],
   "outputs": [
    {
     "output_type": "display_data",
     "data": {
      "text/plain": [
       "<Figure size 432x288 with 1 Axes>"
      ],
      "image/png": "[encoded data removed]"
     },
     "metadata": {
      "needs_background": "light"
     }
    }
   ],
   "metadata": {}
  },
  {
   "cell_type": "markdown",
   "source": [
    "## 24. Visualize the age distribution using histogram"
   ],
   "metadata": {}
  },
  {
   "cell_type": "code",
   "execution_count": 27,
   "source": [
    "df['age'].plot(kind = 'hist', bins = 30);"
   ],
   "outputs": [
    {
     "output_type": "display_data",
     "data": {
      "text/plain": [
       "<Figure size 432x288 with 1 Axes>"
      ],
      "image/png": "[encoded data removed]"
     },
     "metadata": {
      "needs_background": "light"
     }
    }
   ],
   "metadata": {}
  },
  {
   "cell_type": "code",
   "execution_count": null,
   "source": [],
   "outputs": [],
   "metadata": {}
  }
 ],
 "metadata": {
  "orig_nbformat": 4,
  "language_info": {
   "name": "python",
   "version": "3.8.5",
   "mimetype": "text/x-python",
   "codemirror_mode": {
    "name": "ipython",
    "version": 3
   },
   "pygments_lexer": "ipython3",
   "nbconvert_exporter": "python",
   "file_extension": ".py"
  },
  "kernelspec": {
   "name": "python3",
   "display_name": "Python 3.8.5 64-bit ('DataScience': conda)"
  },
  "interpreter": {
   "hash": "fc3dc48ea61c8fa3040668c16766cca4cbc4448de8c8527955c28045cb69eaa2"
  }
 },
 "nbformat": 4,
 "nbformat_minor": 2
}