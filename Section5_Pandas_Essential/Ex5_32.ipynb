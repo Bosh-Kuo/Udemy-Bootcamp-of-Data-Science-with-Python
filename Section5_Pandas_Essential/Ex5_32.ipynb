{
 "cells": [
  {
   "cell_type": "code",
   "execution_count": 1,
   "source": [
    "import pandas as pd\n",
    "students = [\n",
    "    'Naomi', 'Yumi','Hinata',\n",
    "    'Hana', 'Akira', 'Yuki',\n",
    "    'Yudi', 'Sakura', 'Sasuke',\n",
    "    'Hiroshi', 'Ken', 'Emi']\n",
    "mathematics = [1, 3, 1, 3, 4, 3, 1, 9, 5, 9, 1, 2]\n",
    "chemestry = [6, 5, 5, 8, 6, 6, 5, 3, 7, 8, 6, 4]\n",
    "biology = [8, 7, 9, 9, 7, 7, 8, 7, 7, 7, 7, 9]\n",
    "economy = [3, 2, 7, 8, 9, 9, 5, 9, 8, 6, 7, 9]\n",
    "data = {\n",
    "    'Students': students,\n",
    "    'Mathematics':mathematics,\n",
    "    'Chemestry':chemestry,\n",
    "    'Biology': biology,\n",
    "    'Economy': economy\n",
    "}\n",
    "\n",
    "df = pd.DataFrame(data, index = range(1,len(students)+1))\n",
    "print(df)"
   ],
   "outputs": [
    {
     "output_type": "stream",
     "name": "stdout",
     "text": [
      "   Students  Mathematics  Chemestry  Biology  Economy\n",
      "1     Naomi            1          6        8        3\n",
      "2      Yumi            3          5        7        2\n",
      "3    Hinata            1          5        9        7\n",
      "4      Hana            3          8        9        8\n",
      "5     Akira            4          6        7        9\n",
      "6      Yuki            3          6        7        9\n",
      "7      Yudi            1          5        8        5\n",
      "8    Sakura            9          3        7        9\n",
      "9    Sasuke            5          7        7        8\n",
      "10  Hiroshi            9          8        7        6\n",
      "11      Ken            1          6        7        7\n",
      "12      Emi            2          4        9        9\n"
     ]
    }
   ],
   "metadata": {}
  },
  {
   "cell_type": "markdown",
   "source": [
    "## Descriptive statistics of the notes"
   ],
   "metadata": {}
  },
  {
   "cell_type": "code",
   "execution_count": 2,
   "source": [
    "df.describe()"
   ],
   "outputs": [
    {
     "output_type": "execute_result",
     "data": {
      "text/plain": [
       "       Mathematics  Chemestry    Biology    Economy\n",
       "count    12.000000  12.000000  12.000000  12.000000\n",
       "mean      3.500000   5.750000   7.666667   6.833333\n",
       "std       2.876235   1.484771   0.887625   2.405801\n",
       "min       1.000000   3.000000   7.000000   2.000000\n",
       "25%       1.000000   5.000000   7.000000   5.750000\n",
       "50%       3.000000   6.000000   7.000000   7.500000\n",
       "75%       4.250000   6.250000   8.250000   9.000000\n",
       "max       9.000000   8.000000   9.000000   9.000000"
      ],
      "text/html": [
       "<div>\n",
       "<style scoped>\n",
       "    .dataframe tbody tr th:only-of-type {\n",
       "        vertical-align: middle;\n",
       "    }\n",
       "\n",
       "    .dataframe tbody tr th {\n",
       "        vertical-align: top;\n",
       "    }\n",
       "\n",
       "    .dataframe thead th {\n",
       "        text-align: right;\n",
       "    }\n",
       "</style>\n",
       "<table border=\"1\" class=\"dataframe\">\n",
       "  <thead>\n",
       "    <tr style=\"text-align: right;\">\n",
       "      <th></th>\n",
       "      <th>Mathematics</th>\n",
       "      <th>Chemestry</th>\n",
       "      <th>Biology</th>\n",
       "      <th>Economy</th>\n",
       "    </tr>\n",
       "  </thead>\n",
       "  <tbody>\n",
       "    <tr>\n",
       "      <th>count</th>\n",
       "      <td>12.000000</td>\n",
       "      <td>12.000000</td>\n",
       "      <td>12.000000</td>\n",
       "      <td>12.000000</td>\n",
       "    </tr>\n",
       "    <tr>\n",
       "      <th>mean</th>\n",
       "      <td>3.500000</td>\n",
       "      <td>5.750000</td>\n",
       "      <td>7.666667</td>\n",
       "      <td>6.833333</td>\n",
       "    </tr>\n",
       "    <tr>\n",
       "      <th>std</th>\n",
       "      <td>2.876235</td>\n",
       "      <td>1.484771</td>\n",
       "      <td>0.887625</td>\n",
       "      <td>2.405801</td>\n",
       "    </tr>\n",
       "    <tr>\n",
       "      <th>min</th>\n",
       "      <td>1.000000</td>\n",
       "      <td>3.000000</td>\n",
       "      <td>7.000000</td>\n",
       "      <td>2.000000</td>\n",
       "    </tr>\n",
       "    <tr>\n",
       "      <th>25%</th>\n",
       "      <td>1.000000</td>\n",
       "      <td>5.000000</td>\n",
       "      <td>7.000000</td>\n",
       "      <td>5.750000</td>\n",
       "    </tr>\n",
       "    <tr>\n",
       "      <th>50%</th>\n",
       "      <td>3.000000</td>\n",
       "      <td>6.000000</td>\n",
       "      <td>7.000000</td>\n",
       "      <td>7.500000</td>\n",
       "    </tr>\n",
       "    <tr>\n",
       "      <th>75%</th>\n",
       "      <td>4.250000</td>\n",
       "      <td>6.250000</td>\n",
       "      <td>8.250000</td>\n",
       "      <td>9.000000</td>\n",
       "    </tr>\n",
       "    <tr>\n",
       "      <th>max</th>\n",
       "      <td>9.000000</td>\n",
       "      <td>8.000000</td>\n",
       "      <td>9.000000</td>\n",
       "      <td>9.000000</td>\n",
       "    </tr>\n",
       "  </tbody>\n",
       "</table>\n",
       "</div>"
      ]
     },
     "metadata": {},
     "execution_count": 2
    }
   ],
   "metadata": {}
  },
  {
   "cell_type": "markdown",
   "source": [
    "## create a new column to store the students' final average"
   ],
   "metadata": {}
  },
  {
   "cell_type": "code",
   "execution_count": 3,
   "source": [
    "df['Final average'] = df.drop(['Students'], axis = 1).mean(axis = 1)\n",
    "df['Final average']\n",
    "\n"
   ],
   "outputs": [
    {
     "output_type": "execute_result",
     "data": {
      "text/plain": [
       "1     4.50\n",
       "2     4.25\n",
       "3     5.50\n",
       "4     7.00\n",
       "5     6.50\n",
       "6     6.25\n",
       "7     4.75\n",
       "8     7.00\n",
       "9     6.75\n",
       "10    7.50\n",
       "11    5.25\n",
       "12    6.00\n",
       "Name: Final average, dtype: float64"
      ]
     },
     "metadata": {},
     "execution_count": 3
    }
   ],
   "metadata": {}
  },
  {
   "cell_type": "markdown",
   "source": [
    "## create a new column to inform whether the student has been approved or not, based on the final score (the grade must be greater than or equal to 7)"
   ],
   "metadata": {}
  },
  {
   "cell_type": "code",
   "execution_count": 4,
   "source": [
    "def show_result(grade):\n",
    "    if grade>=7:\n",
    "        return 'Approved'\n",
    "    else:\n",
    "        return 'Reproved'\n",
    "\n",
    "df['Result'] = df['Final average'].apply(show_result)\n",
    "print(df)"
   ],
   "outputs": [
    {
     "output_type": "stream",
     "name": "stdout",
     "text": [
      "   Students  Mathematics  Chemestry  Biology  Economy  Final average    Result\n",
      "1     Naomi            1          6        8        3           4.50  Reproved\n",
      "2      Yumi            3          5        7        2           4.25  Reproved\n",
      "3    Hinata            1          5        9        7           5.50  Reproved\n",
      "4      Hana            3          8        9        8           7.00  Approved\n",
      "5     Akira            4          6        7        9           6.50  Reproved\n",
      "6      Yuki            3          6        7        9           6.25  Reproved\n",
      "7      Yudi            1          5        8        5           4.75  Reproved\n",
      "8    Sakura            9          3        7        9           7.00  Approved\n",
      "9    Sasuke            5          7        7        8           6.75  Reproved\n",
      "10  Hiroshi            9          8        7        6           7.50  Approved\n",
      "11      Ken            1          6        7        7           5.25  Reproved\n",
      "12      Emi            2          4        9        9           6.00  Reproved\n"
     ]
    }
   ],
   "metadata": {}
  },
  {
   "cell_type": "code",
   "execution_count": null,
   "source": [],
   "outputs": [],
   "metadata": {}
  }
 ],
 "metadata": {
  "orig_nbformat": 4,
  "language_info": {
   "name": "python",
   "version": "3.8.5",
   "mimetype": "text/x-python",
   "codemirror_mode": {
    "name": "ipython",
    "version": 3
   },
   "pygments_lexer": "ipython3",
   "nbconvert_exporter": "python",
   "file_extension": ".py"
  },
  "kernelspec": {
   "name": "python3",
   "display_name": "Python 3.8.5 64-bit ('DataScience': conda)"
  },
  "interpreter": {
   "hash": "fc3dc48ea61c8fa3040668c16766cca4cbc4448de8c8527955c28045cb69eaa2"
  }
 },
 "nbformat": 4,
 "nbformat_minor": 2
}