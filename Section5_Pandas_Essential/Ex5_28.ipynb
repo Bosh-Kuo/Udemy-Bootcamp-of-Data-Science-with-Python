{
 "cells": [
  {
   "cell_type": "code",
   "execution_count": 1,
   "source": [
    "import pandas as pd\n",
    "import numpy as np\n",
    "np.random.seed(7)\n",
    "\n",
    "data = np.random.randint(1,50,16,).reshape((4,4))\n",
    "index = ['Year '+str(i) for i in range(1,5)]\n",
    "columns = ['Brand '+chr(65+i) for i in range(4)]\n",
    "df = pd.DataFrame(data, columns = columns, index= index )\n",
    "df"
   ],
   "outputs": [
    {
     "output_type": "execute_result",
     "data": {
      "text/plain": [
       "        Brand A  Brand B  Brand C  Brand D\n",
       "Year 1       48        5       26        4\n",
       "Year 2       20       24       40       29\n",
       "Year 3       15       24        9       26\n",
       "Year 4       47       43       27        9"
      ],
      "text/html": [
       "<div>\n",
       "<style scoped>\n",
       "    .dataframe tbody tr th:only-of-type {\n",
       "        vertical-align: middle;\n",
       "    }\n",
       "\n",
       "    .dataframe tbody tr th {\n",
       "        vertical-align: top;\n",
       "    }\n",
       "\n",
       "    .dataframe thead th {\n",
       "        text-align: right;\n",
       "    }\n",
       "</style>\n",
       "<table border=\"1\" class=\"dataframe\">\n",
       "  <thead>\n",
       "    <tr style=\"text-align: right;\">\n",
       "      <th></th>\n",
       "      <th>Brand A</th>\n",
       "      <th>Brand B</th>\n",
       "      <th>Brand C</th>\n",
       "      <th>Brand D</th>\n",
       "    </tr>\n",
       "  </thead>\n",
       "  <tbody>\n",
       "    <tr>\n",
       "      <th>Year 1</th>\n",
       "      <td>48</td>\n",
       "      <td>5</td>\n",
       "      <td>26</td>\n",
       "      <td>4</td>\n",
       "    </tr>\n",
       "    <tr>\n",
       "      <th>Year 2</th>\n",
       "      <td>20</td>\n",
       "      <td>24</td>\n",
       "      <td>40</td>\n",
       "      <td>29</td>\n",
       "    </tr>\n",
       "    <tr>\n",
       "      <th>Year 3</th>\n",
       "      <td>15</td>\n",
       "      <td>24</td>\n",
       "      <td>9</td>\n",
       "      <td>26</td>\n",
       "    </tr>\n",
       "    <tr>\n",
       "      <th>Year 4</th>\n",
       "      <td>47</td>\n",
       "      <td>43</td>\n",
       "      <td>27</td>\n",
       "      <td>9</td>\n",
       "    </tr>\n",
       "  </tbody>\n",
       "</table>\n",
       "</div>"
      ]
     },
     "metadata": {},
     "execution_count": 1
    }
   ],
   "metadata": {}
  },
  {
   "cell_type": "markdown",
   "source": [
    "## access the following attributes: columns, index, shape, and values"
   ],
   "metadata": {}
  },
  {
   "cell_type": "code",
   "execution_count": 2,
   "source": [
    "print(df.columns)\n",
    "print(df.index)\n",
    "print(df.shape)\n",
    "print(df.values)"
   ],
   "outputs": [
    {
     "output_type": "stream",
     "name": "stdout",
     "text": [
      "Index(['Brand A', 'Brand B', 'Brand C', 'Brand D'], dtype='object')\n",
      "Index(['Year 1', 'Year 2', 'Year 3', 'Year 4'], dtype='object')\n",
      "(4, 4)\n",
      "[[48  5 26  4]\n",
      " [20 24 40 29]\n",
      " [15 24  9 26]\n",
      " [47 43 27  9]]\n"
     ]
    }
   ],
   "metadata": {}
  },
  {
   "cell_type": "markdown",
   "source": [
    "## select the 'Brand A' and 'Brand C' columns, individually"
   ],
   "metadata": {}
  },
  {
   "cell_type": "code",
   "execution_count": 3,
   "source": [
    "print(df['Brand A'])\n",
    "print(df['Brand C'])"
   ],
   "outputs": [
    {
     "output_type": "stream",
     "name": "stdout",
     "text": [
      "Year 1    48\n",
      "Year 2    20\n",
      "Year 3    15\n",
      "Year 4    47\n",
      "Name: Brand A, dtype: int64\n",
      "Year 1    26\n",
      "Year 2    40\n",
      "Year 3     9\n",
      "Year 4    27\n",
      "Name: Brand C, dtype: int64\n"
     ]
    }
   ],
   "metadata": {}
  },
  {
   "cell_type": "markdown",
   "source": [
    "## show the descriptive statistics for each column with the describe () function"
   ],
   "metadata": {}
  },
  {
   "cell_type": "code",
   "execution_count": 4,
   "source": [
    "df.describe()"
   ],
   "outputs": [
    {
     "output_type": "execute_result",
     "data": {
      "text/plain": [
       "         Brand A    Brand B    Brand C    Brand D\n",
       "count   4.000000   4.000000   4.000000   4.000000\n",
       "mean   32.500000  24.000000  25.500000  17.000000\n",
       "std    17.445152  15.513435  12.714821  12.355835\n",
       "min    15.000000   5.000000   9.000000   4.000000\n",
       "25%    18.750000  19.250000  21.750000   7.750000\n",
       "50%    33.500000  24.000000  26.500000  17.500000\n",
       "75%    47.250000  28.750000  30.250000  26.750000\n",
       "max    48.000000  43.000000  40.000000  29.000000"
      ],
      "text/html": [
       "<div>\n",
       "<style scoped>\n",
       "    .dataframe tbody tr th:only-of-type {\n",
       "        vertical-align: middle;\n",
       "    }\n",
       "\n",
       "    .dataframe tbody tr th {\n",
       "        vertical-align: top;\n",
       "    }\n",
       "\n",
       "    .dataframe thead th {\n",
       "        text-align: right;\n",
       "    }\n",
       "</style>\n",
       "<table border=\"1\" class=\"dataframe\">\n",
       "  <thead>\n",
       "    <tr style=\"text-align: right;\">\n",
       "      <th></th>\n",
       "      <th>Brand A</th>\n",
       "      <th>Brand B</th>\n",
       "      <th>Brand C</th>\n",
       "      <th>Brand D</th>\n",
       "    </tr>\n",
       "  </thead>\n",
       "  <tbody>\n",
       "    <tr>\n",
       "      <th>count</th>\n",
       "      <td>4.000000</td>\n",
       "      <td>4.000000</td>\n",
       "      <td>4.000000</td>\n",
       "      <td>4.000000</td>\n",
       "    </tr>\n",
       "    <tr>\n",
       "      <th>mean</th>\n",
       "      <td>32.500000</td>\n",
       "      <td>24.000000</td>\n",
       "      <td>25.500000</td>\n",
       "      <td>17.000000</td>\n",
       "    </tr>\n",
       "    <tr>\n",
       "      <th>std</th>\n",
       "      <td>17.445152</td>\n",
       "      <td>15.513435</td>\n",
       "      <td>12.714821</td>\n",
       "      <td>12.355835</td>\n",
       "    </tr>\n",
       "    <tr>\n",
       "      <th>min</th>\n",
       "      <td>15.000000</td>\n",
       "      <td>5.000000</td>\n",
       "      <td>9.000000</td>\n",
       "      <td>4.000000</td>\n",
       "    </tr>\n",
       "    <tr>\n",
       "      <th>25%</th>\n",
       "      <td>18.750000</td>\n",
       "      <td>19.250000</td>\n",
       "      <td>21.750000</td>\n",
       "      <td>7.750000</td>\n",
       "    </tr>\n",
       "    <tr>\n",
       "      <th>50%</th>\n",
       "      <td>33.500000</td>\n",
       "      <td>24.000000</td>\n",
       "      <td>26.500000</td>\n",
       "      <td>17.500000</td>\n",
       "    </tr>\n",
       "    <tr>\n",
       "      <th>75%</th>\n",
       "      <td>47.250000</td>\n",
       "      <td>28.750000</td>\n",
       "      <td>30.250000</td>\n",
       "      <td>26.750000</td>\n",
       "    </tr>\n",
       "    <tr>\n",
       "      <th>max</th>\n",
       "      <td>48.000000</td>\n",
       "      <td>43.000000</td>\n",
       "      <td>40.000000</td>\n",
       "      <td>29.000000</td>\n",
       "    </tr>\n",
       "  </tbody>\n",
       "</table>\n",
       "</div>"
      ]
     },
     "metadata": {},
     "execution_count": 4
    }
   ],
   "metadata": {}
  },
  {
   "cell_type": "markdown",
   "source": [
    "## show information from the dataset with the info () function"
   ],
   "metadata": {}
  },
  {
   "cell_type": "code",
   "execution_count": 5,
   "source": [
    "df.info()"
   ],
   "outputs": [
    {
     "output_type": "stream",
     "name": "stdout",
     "text": [
      "<class 'pandas.core.frame.DataFrame'>\n",
      "Index: 4 entries, Year 1 to Year 4\n",
      "Data columns (total 4 columns):\n",
      " #   Column   Non-Null Count  Dtype\n",
      "---  ------   --------------  -----\n",
      " 0   Brand A  4 non-null      int64\n",
      " 1   Brand B  4 non-null      int64\n",
      " 2   Brand C  4 non-null      int64\n",
      " 3   Brand D  4 non-null      int64\n",
      "dtypes: int64(4)\n",
      "memory usage: 320.0+ bytes\n"
     ]
    }
   ],
   "metadata": {}
  },
  {
   "cell_type": "markdown",
   "source": [
    "## show the data type of each column in the dataset"
   ],
   "metadata": {}
  },
  {
   "cell_type": "code",
   "execution_count": 6,
   "source": [
    "df.dtypes"
   ],
   "outputs": [
    {
     "output_type": "execute_result",
     "data": {
      "text/plain": [
       "Brand A    int64\n",
       "Brand B    int64\n",
       "Brand C    int64\n",
       "Brand D    int64\n",
       "dtype: object"
      ]
     },
     "metadata": {},
     "execution_count": 6
    }
   ],
   "metadata": {}
  },
  {
   "cell_type": "markdown",
   "source": [
    "## convert the data type of the columns to float"
   ],
   "metadata": {}
  },
  {
   "cell_type": "code",
   "execution_count": 7,
   "source": [
    "df = df.astype(float)\n",
    "df.dtypes"
   ],
   "outputs": [
    {
     "output_type": "execute_result",
     "data": {
      "text/plain": [
       "Brand A    float64\n",
       "Brand B    float64\n",
       "Brand C    float64\n",
       "Brand D    float64\n",
       "dtype: object"
      ]
     },
     "metadata": {},
     "execution_count": 7
    }
   ],
   "metadata": {}
  },
  {
   "cell_type": "markdown",
   "source": [
    "## select the profit of the brands in year 1 (use the loc and iloc functions)"
   ],
   "metadata": {}
  },
  {
   "cell_type": "code",
   "execution_count": 10,
   "source": [
    "print(df.loc['Year 1'])\n",
    "df.iloc[0:1, :]"
   ],
   "outputs": [
    {
     "output_type": "stream",
     "name": "stdout",
     "text": [
      "Brand A    48.0\n",
      "Brand B     5.0\n",
      "Brand C    26.0\n",
      "Brand D     4.0\n",
      "Name: Year 1, dtype: float64\n"
     ]
    },
    {
     "output_type": "execute_result",
     "data": {
      "text/plain": [
       "        Brand A  Brand B  Brand C  Brand D\n",
       "Year 1     48.0      5.0     26.0      4.0"
      ],
      "text/html": [
       "<div>\n",
       "<style scoped>\n",
       "    .dataframe tbody tr th:only-of-type {\n",
       "        vertical-align: middle;\n",
       "    }\n",
       "\n",
       "    .dataframe tbody tr th {\n",
       "        vertical-align: top;\n",
       "    }\n",
       "\n",
       "    .dataframe thead th {\n",
       "        text-align: right;\n",
       "    }\n",
       "</style>\n",
       "<table border=\"1\" class=\"dataframe\">\n",
       "  <thead>\n",
       "    <tr style=\"text-align: right;\">\n",
       "      <th></th>\n",
       "      <th>Brand A</th>\n",
       "      <th>Brand B</th>\n",
       "      <th>Brand C</th>\n",
       "      <th>Brand D</th>\n",
       "    </tr>\n",
       "  </thead>\n",
       "  <tbody>\n",
       "    <tr>\n",
       "      <th>Year 1</th>\n",
       "      <td>48.0</td>\n",
       "      <td>5.0</td>\n",
       "      <td>26.0</td>\n",
       "      <td>4.0</td>\n",
       "    </tr>\n",
       "  </tbody>\n",
       "</table>\n",
       "</div>"
      ]
     },
     "metadata": {},
     "execution_count": 10
    }
   ],
   "metadata": {}
  },
  {
   "cell_type": "markdown",
   "source": [
    "## select the profit for Brand C in years 1 and 3 (use the loc and iloc functions)"
   ],
   "metadata": {}
  },
  {
   "cell_type": "code",
   "execution_count": 12,
   "source": [
    "print(df.loc[['Year 1', 'Year 3'], 'Brand C'])\n",
    "df.iloc[[0, 2], 2:3]\n"
   ],
   "outputs": [
    {
     "output_type": "stream",
     "name": "stdout",
     "text": [
      "Year 1    26.0\n",
      "Year 3     9.0\n",
      "Name: Brand C, dtype: float64\n"
     ]
    },
    {
     "output_type": "execute_result",
     "data": {
      "text/plain": [
       "        Brand C\n",
       "Year 1     26.0\n",
       "Year 3      9.0"
      ],
      "text/html": [
       "<div>\n",
       "<style scoped>\n",
       "    .dataframe tbody tr th:only-of-type {\n",
       "        vertical-align: middle;\n",
       "    }\n",
       "\n",
       "    .dataframe tbody tr th {\n",
       "        vertical-align: top;\n",
       "    }\n",
       "\n",
       "    .dataframe thead th {\n",
       "        text-align: right;\n",
       "    }\n",
       "</style>\n",
       "<table border=\"1\" class=\"dataframe\">\n",
       "  <thead>\n",
       "    <tr style=\"text-align: right;\">\n",
       "      <th></th>\n",
       "      <th>Brand C</th>\n",
       "    </tr>\n",
       "  </thead>\n",
       "  <tbody>\n",
       "    <tr>\n",
       "      <th>Year 1</th>\n",
       "      <td>26.0</td>\n",
       "    </tr>\n",
       "    <tr>\n",
       "      <th>Year 3</th>\n",
       "      <td>9.0</td>\n",
       "    </tr>\n",
       "  </tbody>\n",
       "</table>\n",
       "</div>"
      ]
     },
     "metadata": {},
     "execution_count": 12
    }
   ],
   "metadata": {}
  },
  {
   "cell_type": "markdown",
   "source": [
    "## select the profit for brands A, C, and D, in years 2 and 4 (use the loc and iloc functions)"
   ],
   "metadata": {}
  },
  {
   "cell_type": "code",
   "execution_count": 13,
   "source": [
    "print(df.loc[['Year 2', 'Year 4'], ['Brand A', 'Brand C', 'Brand D']])\n",
    "df.iloc[[1, 3], [0, 2, 3]]\n"
   ],
   "outputs": [
    {
     "output_type": "stream",
     "name": "stdout",
     "text": [
      "        Brand A  Brand C  Brand D\n",
      "Year 2     20.0     40.0     29.0\n",
      "Year 4     47.0     27.0      9.0\n"
     ]
    },
    {
     "output_type": "execute_result",
     "data": {
      "text/plain": [
       "        Brand A  Brand C  Brand D\n",
       "Year 2     20.0     40.0     29.0\n",
       "Year 4     47.0     27.0      9.0"
      ],
      "text/html": [
       "<div>\n",
       "<style scoped>\n",
       "    .dataframe tbody tr th:only-of-type {\n",
       "        vertical-align: middle;\n",
       "    }\n",
       "\n",
       "    .dataframe tbody tr th {\n",
       "        vertical-align: top;\n",
       "    }\n",
       "\n",
       "    .dataframe thead th {\n",
       "        text-align: right;\n",
       "    }\n",
       "</style>\n",
       "<table border=\"1\" class=\"dataframe\">\n",
       "  <thead>\n",
       "    <tr style=\"text-align: right;\">\n",
       "      <th></th>\n",
       "      <th>Brand A</th>\n",
       "      <th>Brand C</th>\n",
       "      <th>Brand D</th>\n",
       "    </tr>\n",
       "  </thead>\n",
       "  <tbody>\n",
       "    <tr>\n",
       "      <th>Year 2</th>\n",
       "      <td>20.0</td>\n",
       "      <td>40.0</td>\n",
       "      <td>29.0</td>\n",
       "    </tr>\n",
       "    <tr>\n",
       "      <th>Year 4</th>\n",
       "      <td>47.0</td>\n",
       "      <td>27.0</td>\n",
       "      <td>9.0</td>\n",
       "    </tr>\n",
       "  </tbody>\n",
       "</table>\n",
       "</div>"
      ]
     },
     "metadata": {},
     "execution_count": 13
    }
   ],
   "metadata": {}
  },
  {
   "cell_type": "markdown",
   "source": [
    "## show the average profit of each brand in this time interval"
   ],
   "metadata": {}
  },
  {
   "cell_type": "code",
   "execution_count": 14,
   "source": [
    "df.mean()"
   ],
   "outputs": [
    {
     "output_type": "execute_result",
     "data": {
      "text/plain": [
       "Brand A    32.5\n",
       "Brand B    24.0\n",
       "Brand C    25.5\n",
       "Brand D    17.0\n",
       "dtype: float64"
      ]
     },
     "metadata": {},
     "execution_count": 14
    }
   ],
   "metadata": {}
  },
  {
   "cell_type": "markdown",
   "source": [
    "## show the average profit for all brands in each year"
   ],
   "metadata": {}
  },
  {
   "cell_type": "code",
   "execution_count": 15,
   "source": [
    "df.mean(axis=1)"
   ],
   "outputs": [
    {
     "output_type": "execute_result",
     "data": {
      "text/plain": [
       "Year 1    20.75\n",
       "Year 2    28.25\n",
       "Year 3    18.50\n",
       "Year 4    31.50\n",
       "dtype: float64"
      ]
     },
     "metadata": {},
     "execution_count": 15
    }
   ],
   "metadata": {}
  },
  {
   "cell_type": "code",
   "execution_count": null,
   "source": [],
   "outputs": [],
   "metadata": {}
  }
 ],
 "metadata": {
  "orig_nbformat": 4,
  "language_info": {
   "name": "python",
   "version": "3.8.5",
   "mimetype": "text/x-python",
   "codemirror_mode": {
    "name": "ipython",
    "version": 3
   },
   "pygments_lexer": "ipython3",
   "nbconvert_exporter": "python",
   "file_extension": ".py"
  },
  "kernelspec": {
   "name": "python3",
   "display_name": "Python 3.8.5 64-bit ('DataScience': conda)"
  },
  "interpreter": {
   "hash": "fc3dc48ea61c8fa3040668c16766cca4cbc4448de8c8527955c28045cb69eaa2"
  }
 },
 "nbformat": 4,
 "nbformat_minor": 2
}