{
 "cells": [
  {
   "cell_type": "markdown",
   "source": [
    "## replace the missing data with the average in the case Company B\n",
    "## replace the missing data with the median in the case of Company C"
   ],
   "metadata": {}
  },
  {
   "cell_type": "code",
   "execution_count": 1,
   "source": [
    "import pandas as pd\n",
    "import numpy as np\n",
    "\n",
    "data = {\n",
    "    'Company A': {2018:90, 2019:76, 2020: 109},\n",
    "    'Company B': {2018: 33, 2020: 13},\n",
    "    'Company C': {2018:273, 2019: 33}}\n",
    " \n",
    "df = pd.DataFrame(data)\n",
    "df.columns.name = 'Revenues'\n",
    "df.index.name = 'Year'\n",
    "print(df)\n",
    "\n",
    "df.fillna(\n",
    "    {'Company B':df['Company B'].mean(), 'Company C': df['Company C'].median()}, \n",
    "    inplace = True)\n",
    "print(df)"
   ],
   "outputs": [
    {
     "output_type": "stream",
     "name": "stdout",
     "text": [
      "Revenues  Company A  Company B  Company C\n",
      "Year                                     \n",
      "2018             90       33.0      273.0\n",
      "2019             76        NaN       33.0\n",
      "2020            109       13.0        NaN\n",
      "Revenues  Company A  Company B  Company C\n",
      "Year                                     \n",
      "2018             90       33.0      273.0\n",
      "2019             76       23.0       33.0\n",
      "2020            109       13.0      153.0\n"
     ]
    }
   ],
   "metadata": {}
  },
  {
   "cell_type": "markdown",
   "source": [
    "## use idxmin() / idxmax() to filter the years in which the respective companies had higher and lower profits"
   ],
   "metadata": {}
  },
  {
   "cell_type": "code",
   "execution_count": 4,
   "source": [
    "print('Higher profits\\n',df.idxmax())\n",
    "print()\n",
    "print('Lower profits\\n',df.idxmin())\n"
   ],
   "outputs": [
    {
     "output_type": "stream",
     "name": "stdout",
     "text": [
      "Higher profits\n",
      " Revenues\n",
      "Company A    2020\n",
      "Company B    2018\n",
      "Company C    2018\n",
      "dtype: int64\n",
      "\n",
      "Lower profits\n",
      " Revenues\n",
      "Company A    2019\n",
      "Company B    2020\n",
      "Company C    2019\n",
      "dtype: int64\n"
     ]
    }
   ],
   "metadata": {}
  },
  {
   "cell_type": "code",
   "execution_count": null,
   "source": [],
   "outputs": [],
   "metadata": {}
  }
 ],
 "metadata": {
  "orig_nbformat": 4,
  "language_info": {
   "name": "python",
   "version": "3.8.5",
   "mimetype": "text/x-python",
   "codemirror_mode": {
    "name": "ipython",
    "version": 3
   },
   "pygments_lexer": "ipython3",
   "nbconvert_exporter": "python",
   "file_extension": ".py"
  },
  "kernelspec": {
   "name": "python3",
   "display_name": "Python 3.8.5 64-bit ('DataScience': conda)"
  },
  "interpreter": {
   "hash": "fc3dc48ea61c8fa3040668c16766cca4cbc4448de8c8527955c28045cb69eaa2"
  }
 },
 "nbformat": 4,
 "nbformat_minor": 2
}