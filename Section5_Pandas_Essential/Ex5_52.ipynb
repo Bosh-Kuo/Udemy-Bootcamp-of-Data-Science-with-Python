{
 "cells": [
  {
   "cell_type": "code",
   "execution_count": 1,
   "source": [
    "import pandas as pd\n",
    "import numpy as np\n",
    "np.random.seed(99)\n",
    "index = [chr(65+i) for i in range(10)]\n",
    "series = pd.Series(np.random.normal(loc = 10, scale = 0.5, size = 10), index, name = 'Data')\n",
    "print(series)"
   ],
   "outputs": [
    {
     "output_type": "stream",
     "name": "stdout",
     "text": [
      "A     9.928821\n",
      "B    11.028611\n",
      "C    10.141631\n",
      "D    10.664906\n",
      "E     9.922689\n",
      "F     9.965485\n",
      "G    10.377590\n",
      "H    10.412823\n",
      "I     9.943465\n",
      "J     8.816081\n",
      "Name: Data, dtype: float64\n"
     ]
    }
   ],
   "metadata": {}
  },
  {
   "cell_type": "code",
   "execution_count": 2,
   "source": [
    "for number in series:\n",
    "    print(round(number, 2))"
   ],
   "outputs": [
    {
     "output_type": "stream",
     "name": "stdout",
     "text": [
      "9.93\n",
      "11.03\n",
      "10.14\n",
      "10.66\n",
      "9.92\n",
      "9.97\n",
      "10.38\n",
      "10.41\n",
      "9.94\n",
      "8.82\n"
     ]
    }
   ],
   "metadata": {}
  },
  {
   "cell_type": "code",
   "execution_count": null,
   "source": [],
   "outputs": [],
   "metadata": {}
  }
 ],
 "metadata": {
  "orig_nbformat": 4,
  "language_info": {
   "name": "python",
   "version": "3.8.5",
   "mimetype": "text/x-python",
   "codemirror_mode": {
    "name": "ipython",
    "version": 3
   },
   "pygments_lexer": "ipython3",
   "nbconvert_exporter": "python",
   "file_extension": ".py"
  },
  "kernelspec": {
   "name": "python3",
   "display_name": "Python 3.8.5 64-bit ('DataScience': conda)"
  },
  "interpreter": {
   "hash": "fc3dc48ea61c8fa3040668c16766cca4cbc4448de8c8527955c28045cb69eaa2"
  }
 },
 "nbformat": 4,
 "nbformat_minor": 2
}