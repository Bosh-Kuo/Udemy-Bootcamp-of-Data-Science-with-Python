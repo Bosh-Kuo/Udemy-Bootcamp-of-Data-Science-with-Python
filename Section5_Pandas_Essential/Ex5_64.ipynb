{
 "cells": [
  {
   "cell_type": "code",
   "execution_count": 1,
   "source": [
    "import pandas as pd\n",
    "import numpy as np\n",
    "\n",
    "index = pd.date_range(start = '2021-12-1', end = '2021-12-8')\n",
    "data = {\n",
    "    'A':[np.nan, 10, 11, 9, 17, 21, np.nan, np.nan],\n",
    "    'B':[np.nan, np.nan, 1, 1, 1, 0, np.nan, 1],\n",
    "    'C':['A', 'B', 'B','A',np.nan, np.nan,np.nan,'A'],\n",
    "    'D':[169, 133, np.nan, 172, np.nan, 133, 174, 170]}\n",
    "df = pd.DataFrame(data, index)\n",
    "print(df)"
   ],
   "outputs": [
    {
     "output_type": "stream",
     "name": "stdout",
     "text": [
      "               A    B    C      D\n",
      "2021-12-01   NaN  NaN    A  169.0\n",
      "2021-12-02  10.0  NaN    B  133.0\n",
      "2021-12-03  11.0  1.0    B    NaN\n",
      "2021-12-04   9.0  1.0    A  172.0\n",
      "2021-12-05  17.0  1.0  NaN    NaN\n",
      "2021-12-06  21.0  0.0  NaN  133.0\n",
      "2021-12-07   NaN  NaN  NaN  174.0\n",
      "2021-12-08   NaN  1.0    A  170.0\n"
     ]
    }
   ],
   "metadata": {}
  },
  {
   "cell_type": "code",
   "execution_count": 2,
   "source": [
    "fill_missing = {\n",
    "    'A': df['A'].mean(),\n",
    "    'B': df['B'].mode()[0],\n",
    "    'C': 'A',\n",
    "    'D': df['D'].median()}\n",
    "\n",
    "df.fillna(fill_missing, inplace = True)\n",
    "print(df)"
   ],
   "outputs": [
    {
     "output_type": "stream",
     "name": "stdout",
     "text": [
      "               A    B  C      D\n",
      "2021-12-01  13.6  1.0  A  169.0\n",
      "2021-12-02  10.0  1.0  B  133.0\n",
      "2021-12-03  11.0  1.0  B  169.5\n",
      "2021-12-04   9.0  1.0  A  172.0\n",
      "2021-12-05  17.0  1.0  A  169.5\n",
      "2021-12-06  21.0  0.0  A  133.0\n",
      "2021-12-07  13.6  1.0  A  174.0\n",
      "2021-12-08  13.6  1.0  A  170.0\n"
     ]
    }
   ],
   "metadata": {}
  },
  {
   "cell_type": "code",
   "execution_count": null,
   "source": [],
   "outputs": [],
   "metadata": {}
  }
 ],
 "metadata": {
  "orig_nbformat": 4,
  "language_info": {
   "name": "python",
   "version": "3.8.5",
   "mimetype": "text/x-python",
   "codemirror_mode": {
    "name": "ipython",
    "version": 3
   },
   "pygments_lexer": "ipython3",
   "nbconvert_exporter": "python",
   "file_extension": ".py"
  },
  "kernelspec": {
   "name": "python3",
   "display_name": "Python 3.8.5 64-bit ('DataScience': conda)"
  },
  "interpreter": {
   "hash": "fc3dc48ea61c8fa3040668c16766cca4cbc4448de8c8527955c28045cb69eaa2"
  }
 },
 "nbformat": 4,
 "nbformat_minor": 2
}