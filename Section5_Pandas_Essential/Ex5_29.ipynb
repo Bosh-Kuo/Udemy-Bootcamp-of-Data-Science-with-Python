{
 "cells": [
  {
   "cell_type": "markdown",
   "source": [
    "## create a column for 'Brand E', which recorded the following profits for the respective years: 70, 77, 81, 103"
   ],
   "metadata": {}
  },
  {
   "cell_type": "code",
   "execution_count": 1,
   "source": [
    "import pandas as pd\n",
    "import numpy as np\n",
    "np.random.seed(7)\n",
    "\n",
    "data = np.random.randint(1,50,16,).reshape((4,4))\n",
    "index = ['Year '+str(i) for i in range(1,5)]\n",
    "columns = ['Brand '+chr(65+i) for i in range(4)]\n",
    "df = pd.DataFrame(data, columns = columns, index= index )\n",
    "df['Brand E'] = [70, 77, 81, 103]\n",
    "print(df)"
   ],
   "outputs": [
    {
     "output_type": "stream",
     "name": "stdout",
     "text": [
      "        Brand A  Brand B  Brand C  Brand D  Brand E\n",
      "Year 1       48        5       26        4       70\n",
      "Year 2       20       24       40       29       77\n",
      "Year 3       15       24        9       26       81\n",
      "Year 4       47       43       27        9      103\n"
     ]
    }
   ],
   "metadata": {}
  },
  {
   "cell_type": "markdown",
   "source": [
    "## rename the column names to, respectively: 'A', 'B', 'C', 'D', 'E'"
   ],
   "metadata": {}
  },
  {
   "cell_type": "code",
   "execution_count": 2,
   "source": [
    "df.rename(\n",
    "    columns = {\n",
    "        'Brand A': 'A',\n",
    "        'Brand B': 'B',\n",
    "        'Brand C': 'C',\n",
    "        'Brand D': 'D',\n",
    "        'Brand E': 'E'\n",
    "    }, inplace = True)\n",
    "print(df)"
   ],
   "outputs": [
    {
     "output_type": "stream",
     "name": "stdout",
     "text": [
      "         A   B   C   D    E\n",
      "Year 1  48   5  26   4   70\n",
      "Year 2  20  24  40  29   77\n",
      "Year 3  15  24   9  26   81\n",
      "Year 4  47  43  27   9  103\n"
     ]
    }
   ],
   "metadata": {}
  },
  {
   "cell_type": "markdown",
   "source": [
    "## rename the DataFrame index to respectively: 'YEAR 1', 'YEAR 2', 'YEAR 3', 'YEAR 4'"
   ],
   "metadata": {}
  },
  {
   "cell_type": "code",
   "execution_count": 3,
   "source": [
    "df.rename(index = lambda coluna:coluna.upper(), inplace = True)\n",
    "print(df)"
   ],
   "outputs": [
    {
     "output_type": "stream",
     "name": "stdout",
     "text": [
      "         A   B   C   D    E\n",
      "YEAR 1  48   5  26   4   70\n",
      "YEAR 2  20  24  40  29   77\n",
      "YEAR 3  15  24   9  26   81\n",
      "YEAR 4  47  43  27   9  103\n"
     ]
    }
   ],
   "metadata": {}
  },
  {
   "cell_type": "markdown",
   "source": [
    "## replace the 'Brand C' profit value ('C' in the new notation) in YEAR 2 from 40 to 37"
   ],
   "metadata": {}
  },
  {
   "cell_type": "code",
   "execution_count": 5,
   "source": [
    "df.loc['YEAR 2', 'C'] = 37\n",
    "print(df)\n"
   ],
   "outputs": [
    {
     "output_type": "stream",
     "name": "stdout",
     "text": [
      "         A   B   C   D    E\n",
      "YEAR 1  48   5  26   4   70\n",
      "YEAR 2  20  24  37  29   77\n",
      "YEAR 3  15  24   9  26   81\n",
      "YEAR 4  47  43  27   9  103\n"
     ]
    }
   ],
   "metadata": {}
  }
 ],
 "metadata": {
  "orig_nbformat": 4,
  "language_info": {
   "name": "python",
   "version": "3.8.5",
   "mimetype": "text/x-python",
   "codemirror_mode": {
    "name": "ipython",
    "version": 3
   },
   "pygments_lexer": "ipython3",
   "nbconvert_exporter": "python",
   "file_extension": ".py"
  },
  "kernelspec": {
   "name": "python3",
   "display_name": "Python 3.8.5 64-bit ('DataScience': conda)"
  },
  "interpreter": {
   "hash": "fc3dc48ea61c8fa3040668c16766cca4cbc4448de8c8527955c28045cb69eaa2"
  }
 },
 "nbformat": 4,
 "nbformat_minor": 2
}