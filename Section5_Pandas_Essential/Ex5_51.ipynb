{
 "cells": [
  {
   "cell_type": "markdown",
   "source": [
    "## descriptive statistics for each column"
   ],
   "metadata": {}
  },
  {
   "cell_type": "code",
   "execution_count": 1,
   "source": [
    "import pandas as pd\n",
    "import numpy as np\n",
    "days = pd.date_range(start = '2018-1-1', end = '2020-12-31')\n",
    "n = days.shape[0]  #total observations\n",
    "data = {\n",
    "    'A': np.random.randint(low = 1, high = 1500, size = n),\n",
    "    'B': np.random.normal(loc = 10, scale = 2, size = n),\n",
    "    'C': np.random.uniform(low = 0, high = 1, size = n),\n",
    "    'D': np.random.lognormal(mean = 4, sigma = 5, size = n),\n",
    "    'E': np.random.standard_normal(size = n)}\n",
    "df = pd.DataFrame(data, index = days)\n",
    "print(df)\n",
    "print()\n",
    "print(df.describe())"
   ],
   "outputs": [
    {
     "output_type": "stream",
     "name": "stdout",
     "text": [
      "               A          B         C             D         E\n",
      "2018-01-01   707  13.546446  0.719042  15284.745432  1.839718\n",
      "2018-01-02  1346  11.845756  0.146159    118.880097 -0.298420\n",
      "2018-01-03    81  10.595622  0.269485  12472.116378  0.122874\n",
      "2018-01-04   254   6.937498  0.299986    207.448052  0.494977\n",
      "2018-01-05  1422  10.172267  0.923270      0.004185  1.380524\n",
      "...          ...        ...       ...           ...       ...\n",
      "2020-12-27  1326   9.137518  0.573706      0.729264  0.195310\n",
      "2020-12-28   977  10.669460  0.743874   8670.841403 -0.433609\n",
      "2020-12-29   204   8.882203  0.252824      0.092890 -0.159555\n",
      "2020-12-30   199  11.123730  0.827999   6256.418537 -0.295042\n",
      "2020-12-31   386   7.469999  0.098164     12.051176 -0.418917\n",
      "\n",
      "[1096 rows x 5 columns]\n",
      "\n",
      "                 A            B            C             D            E\n",
      "count  1096.000000  1096.000000  1096.000000  1.096000e+03  1096.000000\n",
      "mean    750.420620    10.102590     0.496953  1.706871e+06    -0.015367\n",
      "std     424.144273     1.950072     0.292521  3.779542e+07     0.983087\n",
      "min       2.000000     3.463465     0.000480  1.565241e-07    -3.403636\n",
      "25%     375.000000     8.750846     0.236554  2.412167e+00    -0.699692\n",
      "50%     749.500000    10.076591     0.483546  6.738017e+01    -0.027441\n",
      "75%    1119.000000    11.435305     0.759873  2.053378e+03     0.685530\n",
      "max    1499.000000    16.465199     0.999897  1.195363e+09     2.861286\n"
     ]
    }
   ],
   "metadata": {}
  },
  {
   "cell_type": "markdown",
   "source": [
    "## dataset information"
   ],
   "metadata": {}
  },
  {
   "cell_type": "code",
   "execution_count": 2,
   "source": [
    "df.info()"
   ],
   "outputs": [
    {
     "output_type": "stream",
     "name": "stdout",
     "text": [
      "<class 'pandas.core.frame.DataFrame'>\n",
      "DatetimeIndex: 1096 entries, 2018-01-01 to 2020-12-31\n",
      "Freq: D\n",
      "Data columns (total 5 columns):\n",
      " #   Column  Non-Null Count  Dtype  \n",
      "---  ------  --------------  -----  \n",
      " 0   A       1096 non-null   int64  \n",
      " 1   B       1096 non-null   float64\n",
      " 2   C       1096 non-null   float64\n",
      " 3   D       1096 non-null   float64\n",
      " 4   E       1096 non-null   float64\n",
      "dtypes: float64(4), int64(1)\n",
      "memory usage: 91.4 KB\n"
     ]
    }
   ],
   "metadata": {}
  },
  {
   "cell_type": "markdown",
   "source": [
    "## correlation matrix"
   ],
   "metadata": {}
  },
  {
   "cell_type": "code",
   "execution_count": 3,
   "source": [
    "print(df.corr())"
   ],
   "outputs": [
    {
     "output_type": "stream",
     "name": "stdout",
     "text": [
      "          A         B         C         D         E\n",
      "A  1.000000 -0.003620 -0.019296  0.026363  0.005640\n",
      "B -0.003620  1.000000  0.016130 -0.016146  0.040576\n",
      "C -0.019296  0.016130  1.000000 -0.027607 -0.041424\n",
      "D  0.026363 -0.016146 -0.027607  1.000000 -0.009324\n",
      "E  0.005640  0.040576 -0.041424 -0.009324  1.000000\n"
     ]
    }
   ],
   "metadata": {}
  },
  {
   "cell_type": "markdown",
   "source": [
    "## covariance matrix"
   ],
   "metadata": {}
  },
  {
   "cell_type": "code",
   "execution_count": 4,
   "source": [
    "print(df.cov())"
   ],
   "outputs": [
    {
     "output_type": "stream",
     "name": "stdout",
     "text": [
      "              A             B              C             D              E\n",
      "A  1.798984e+05 -2.994047e+00      -2.394083  4.226156e+08       2.351868\n",
      "B -2.994047e+00  3.802780e+00       0.009201 -1.189994e+06       0.077788\n",
      "C -2.394083e+00  9.201311e-03       0.085568 -3.052180e+05      -0.011912\n",
      "D  4.226156e+08 -1.189994e+06 -305217.998078  1.428494e+15 -346455.426350\n",
      "E  2.351868e+00  7.778798e-02      -0.011912 -3.464554e+05       0.966460\n"
     ]
    }
   ],
   "metadata": {}
  },
  {
   "cell_type": "code",
   "execution_count": null,
   "source": [],
   "outputs": [],
   "metadata": {}
  }
 ],
 "metadata": {
  "orig_nbformat": 4,
  "language_info": {
   "name": "python",
   "version": "3.8.5",
   "mimetype": "text/x-python",
   "codemirror_mode": {
    "name": "ipython",
    "version": 3
   },
   "pygments_lexer": "ipython3",
   "nbconvert_exporter": "python",
   "file_extension": ".py"
  },
  "kernelspec": {
   "name": "python3",
   "display_name": "Python 3.8.5 64-bit ('DataScience': conda)"
  },
  "interpreter": {
   "hash": "fc3dc48ea61c8fa3040668c16766cca4cbc4448de8c8527955c28045cb69eaa2"
  }
 },
 "nbformat": 4,
 "nbformat_minor": 2
}