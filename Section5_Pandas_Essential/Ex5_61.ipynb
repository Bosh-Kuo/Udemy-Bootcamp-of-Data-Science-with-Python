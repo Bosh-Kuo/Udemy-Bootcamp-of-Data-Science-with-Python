{
 "cells": [
  {
   "cell_type": "code",
   "execution_count": 1,
   "source": [
    "import numpy as np\n",
    "import pandas as pd\n",
    "index = pd.date_range(start = '2020-1-1', end = '2020-1-6', freq = 'D')\n",
    "data = {\n",
    "    'A': [10, np.nan, 35, 47, 17, 13],\n",
    "    'B': ['A', np.nan, 'B', 'A', 'A', np.nan],\n",
    "    'C': [139, np.nan, np.nan, 199, 111, 140]}\n",
    "df = pd.DataFrame(data, index)\n",
    "print(df)"
   ],
   "outputs": [
    {
     "output_type": "stream",
     "name": "stdout",
     "text": [
      "               A    B      C\n",
      "2020-01-01  10.0    A  139.0\n",
      "2020-01-02   NaN  NaN    NaN\n",
      "2020-01-03  35.0    B    NaN\n",
      "2020-01-04  47.0    A  199.0\n",
      "2020-01-05  17.0    A  111.0\n",
      "2020-01-06  13.0  NaN  140.0\n"
     ]
    }
   ],
   "metadata": {}
  },
  {
   "cell_type": "markdown",
   "source": [
    "## Use the function isna(), isnull(), notna() or notnull() to check NaN in each column of the dataset"
   ],
   "metadata": {}
  },
  {
   "cell_type": "code",
   "execution_count": 3,
   "source": [
    "print(df.isna())\n",
    "print(df.isnull())\n",
    "print(df.notna())\n",
    "print(df.notnull())"
   ],
   "outputs": [
    {
     "output_type": "stream",
     "name": "stdout",
     "text": [
      "                A      B      C\n",
      "2020-01-01  False  False  False\n",
      "2020-01-02   True   True   True\n",
      "2020-01-03  False  False   True\n",
      "2020-01-04  False  False  False\n",
      "2020-01-05  False  False  False\n",
      "2020-01-06  False   True  False\n",
      "                A      B      C\n",
      "2020-01-01  False  False  False\n",
      "2020-01-02   True   True   True\n",
      "2020-01-03  False  False   True\n",
      "2020-01-04  False  False  False\n",
      "2020-01-05  False  False  False\n",
      "2020-01-06  False   True  False\n",
      "                A      B      C\n",
      "2020-01-01   True   True   True\n",
      "2020-01-02  False  False  False\n",
      "2020-01-03   True   True  False\n",
      "2020-01-04   True   True   True\n",
      "2020-01-05   True   True   True\n",
      "2020-01-06   True  False   True\n",
      "                A      B      C\n",
      "2020-01-01   True   True   True\n",
      "2020-01-02  False  False  False\n",
      "2020-01-03   True   True  False\n",
      "2020-01-04   True   True   True\n",
      "2020-01-05   True   True   True\n",
      "2020-01-06   True  False   True\n"
     ]
    }
   ],
   "metadata": {}
  },
  {
   "cell_type": "markdown",
   "source": [
    "## Use the dropna() function to remove rows with missing data from the dataset"
   ],
   "metadata": {}
  },
  {
   "cell_type": "code",
   "execution_count": 4,
   "source": [
    "df = df.dropna(axis = 0)\n",
    "print(df)"
   ],
   "outputs": [
    {
     "output_type": "stream",
     "name": "stdout",
     "text": [
      "               A  B      C\n",
      "2020-01-01  10.0  A  139.0\n",
      "2020-01-04  47.0  A  199.0\n",
      "2020-01-05  17.0  A  111.0\n"
     ]
    }
   ],
   "metadata": {}
  },
  {
   "cell_type": "code",
   "execution_count": null,
   "source": [],
   "outputs": [],
   "metadata": {}
  }
 ],
 "metadata": {
  "orig_nbformat": 4,
  "language_info": {
   "name": "python",
   "version": "3.8.5",
   "mimetype": "text/x-python",
   "codemirror_mode": {
    "name": "ipython",
    "version": 3
   },
   "pygments_lexer": "ipython3",
   "nbconvert_exporter": "python",
   "file_extension": ".py"
  },
  "kernelspec": {
   "name": "python3",
   "display_name": "Python 3.8.5 64-bit ('DataScience': conda)"
  },
  "interpreter": {
   "hash": "fc3dc48ea61c8fa3040668c16766cca4cbc4448de8c8527955c28045cb69eaa2"
  }
 },
 "nbformat": 4,
 "nbformat_minor": 2
}