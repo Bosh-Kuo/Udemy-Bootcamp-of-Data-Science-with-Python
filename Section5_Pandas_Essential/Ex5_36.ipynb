{
 "cells": [
  {
   "cell_type": "code",
   "execution_count": 1,
   "source": [
    "import pandas as pd\n",
    "data = {\n",
    "    'Company A': {2018:90, 2019:76, 2020: 109},\n",
    "    'Company B': {2018: 33, 2020: 13},\n",
    "    'Company C': {2018:273, 2019: 33}}\n",
    " \n",
    "df = pd.DataFrame(data)\n",
    "df.columns.name = 'Revenues'\n",
    "df.index.name = 'Year'\n",
    "\n",
    "print(df)"
   ],
   "outputs": [
    {
     "output_type": "stream",
     "name": "stdout",
     "text": [
      "Revenues  Company A  Company B  Company C\n",
      "Year                                     \n",
      "2018             90       33.0      273.0\n",
      "2019             76        NaN       33.0\n",
      "2020            109       13.0        NaN\n"
     ]
    }
   ],
   "metadata": {}
  },
  {
   "cell_type": "code",
   "execution_count": 2,
   "source": [
    "print(df.isna())"
   ],
   "outputs": [
    {
     "output_type": "stream",
     "name": "stdout",
     "text": [
      "Revenues  Company A  Company B  Company C\n",
      "Year                                     \n",
      "2018          False      False      False\n",
      "2019          False       True      False\n",
      "2020          False      False       True\n"
     ]
    }
   ],
   "metadata": {}
  },
  {
   "cell_type": "code",
   "execution_count": 4,
   "source": [
    "print(df.isna().sum())"
   ],
   "outputs": [
    {
     "output_type": "stream",
     "name": "stdout",
     "text": [
      "Revenues\n",
      "Company A    0\n",
      "Company B    1\n",
      "Company C    1\n",
      "dtype: int64\n"
     ]
    }
   ],
   "metadata": {}
  },
  {
   "cell_type": "code",
   "execution_count": null,
   "source": [],
   "outputs": [],
   "metadata": {}
  }
 ],
 "metadata": {
  "orig_nbformat": 4,
  "language_info": {
   "name": "python",
   "version": "3.8.5",
   "mimetype": "text/x-python",
   "codemirror_mode": {
    "name": "ipython",
    "version": 3
   },
   "pygments_lexer": "ipython3",
   "nbconvert_exporter": "python",
   "file_extension": ".py"
  },
  "kernelspec": {
   "name": "python3",
   "display_name": "Python 3.8.5 64-bit ('DataScience': conda)"
  },
  "interpreter": {
   "hash": "fc3dc48ea61c8fa3040668c16766cca4cbc4448de8c8527955c28045cb69eaa2"
  }
 },
 "nbformat": 4,
 "nbformat_minor": 2
}