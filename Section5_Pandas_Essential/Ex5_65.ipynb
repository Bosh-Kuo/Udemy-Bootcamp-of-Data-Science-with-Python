{
 "cells": [
  {
   "cell_type": "code",
   "execution_count": 1,
   "source": [
    "import pandas as pd\n",
    "\n",
    "data = {\n",
    "    'Brand': ['A', 'A', 'D', 'W', 'K'],\n",
    "    'ID': [1, 1, 3, 5, 7],\n",
    "    'Rating':[3.5, 3.5, 4, 8.2, 1]}\n",
    "\n",
    "df = pd.DataFrame(data)\n",
    "print(df)"
   ],
   "outputs": [
    {
     "output_type": "stream",
     "name": "stdout",
     "text": [
      "  Brand  ID  Rating\n",
      "0     A   1     3.5\n",
      "1     A   1     3.5\n",
      "2     D   3     4.0\n",
      "3     W   5     8.2\n",
      "4     K   7     1.0\n"
     ]
    }
   ],
   "metadata": {}
  },
  {
   "cell_type": "markdown",
   "source": [
    "## remove duplicate lines;"
   ],
   "metadata": {}
  },
  {
   "cell_type": "code",
   "execution_count": 2,
   "source": [
    "df.drop_duplicates(inplace = True)\n",
    "print(df)"
   ],
   "outputs": [
    {
     "output_type": "stream",
     "name": "stdout",
     "text": [
      "  Brand  ID  Rating\n",
      "0     A   1     3.5\n",
      "2     D   3     4.0\n",
      "3     W   5     8.2\n",
      "4     K   7     1.0\n"
     ]
    }
   ],
   "metadata": {}
  },
  {
   "cell_type": "markdown",
   "source": [
    "## change the \"W brand\" ID to 11;"
   ],
   "metadata": {}
  },
  {
   "cell_type": "code",
   "execution_count": 3,
   "source": [
    "df.at[3, 'ID'] = 11\n",
    "print(df)"
   ],
   "outputs": [
    {
     "output_type": "stream",
     "name": "stdout",
     "text": [
      "  Brand  ID  Rating\n",
      "0     A   1     3.5\n",
      "2     D   3     4.0\n",
      "3     W  11     8.2\n",
      "4     K   7     1.0\n"
     ]
    }
   ],
   "metadata": {}
  },
  {
   "cell_type": "markdown",
   "source": [
    "## sort the DataFrame by the Rating column"
   ],
   "metadata": {}
  },
  {
   "cell_type": "code",
   "execution_count": 4,
   "source": [
    "df.sort_values(by = 'Rating', inplace = True)\n",
    "print(df)"
   ],
   "outputs": [
    {
     "output_type": "stream",
     "name": "stdout",
     "text": [
      "  Brand  ID  Rating\n",
      "4     K   7     1.0\n",
      "0     A   1     3.5\n",
      "2     D   3     4.0\n",
      "3     W  11     8.2\n"
     ]
    }
   ],
   "metadata": {}
  },
  {
   "cell_type": "markdown",
   "source": [
    "## change the DataFrame index to the 'ID' column;"
   ],
   "metadata": {}
  },
  {
   "cell_type": "code",
   "execution_count": 5,
   "source": [
    "df.set_index('ID', inplace = True)\n",
    "print(df)"
   ],
   "outputs": [
    {
     "output_type": "stream",
     "name": "stdout",
     "text": [
      "   Brand  Rating\n",
      "ID              \n",
      "7      K     1.0\n",
      "1      A     3.5\n",
      "3      D     4.0\n",
      "11     W     8.2\n"
     ]
    }
   ],
   "metadata": {}
  },
  {
   "cell_type": "markdown",
   "source": [
    "## convert the DataFrame to a dictionary and store it in a variable"
   ],
   "metadata": {}
  },
  {
   "cell_type": "code",
   "execution_count": 6,
   "source": [
    "dict_data = df.to_dict()\n",
    "print(dict_data)"
   ],
   "outputs": [
    {
     "output_type": "stream",
     "name": "stdout",
     "text": [
      "{'Brand': {7: 'K', 1: 'A', 3: 'D', 11: 'W'}, 'Rating': {7: 1.0, 1: 3.5, 3: 4.0, 11: 8.2}}\n"
     ]
    }
   ],
   "metadata": {}
  },
  {
   "cell_type": "code",
   "execution_count": null,
   "source": [],
   "outputs": [],
   "metadata": {}
  }
 ],
 "metadata": {
  "orig_nbformat": 4,
  "language_info": {
   "name": "python",
   "version": "3.8.5",
   "mimetype": "text/x-python",
   "codemirror_mode": {
    "name": "ipython",
    "version": 3
   },
   "pygments_lexer": "ipython3",
   "nbconvert_exporter": "python",
   "file_extension": ".py"
  },
  "kernelspec": {
   "name": "python3",
   "display_name": "Python 3.8.5 64-bit ('DataScience': conda)"
  },
  "interpreter": {
   "hash": "fc3dc48ea61c8fa3040668c16766cca4cbc4448de8c8527955c28045cb69eaa2"
  }
 },
 "nbformat": 4,
 "nbformat_minor": 2
}