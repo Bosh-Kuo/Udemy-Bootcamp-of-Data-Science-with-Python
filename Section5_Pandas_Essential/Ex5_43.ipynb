{
 "cells": [
  {
   "cell_type": "code",
   "execution_count": 3,
   "source": [
    "import pandas as pd\n",
    "\n",
    "years = pd.date_range(start = '2010-1-1', \n",
    "                      periods = 31, freq = 'A')\n",
    "print(years)"
   ],
   "outputs": [
    {
     "output_type": "stream",
     "name": "stdout",
     "text": [
      "DatetimeIndex(['2010-12-31', '2011-12-31', '2012-12-31', '2013-12-31',\n",
      "               '2014-12-31', '2015-12-31', '2016-12-31', '2017-12-31',\n",
      "               '2018-12-31', '2019-12-31', '2020-12-31', '2021-12-31',\n",
      "               '2022-12-31', '2023-12-31', '2024-12-31', '2025-12-31',\n",
      "               '2026-12-31', '2027-12-31', '2028-12-31', '2029-12-31',\n",
      "               '2030-12-31', '2031-12-31', '2032-12-31', '2033-12-31',\n",
      "               '2034-12-31', '2035-12-31', '2036-12-31', '2037-12-31',\n",
      "               '2038-12-31', '2039-12-31', '2040-12-31'],\n",
      "              dtype='datetime64[ns]', freq='A-DEC')\n"
     ]
    }
   ],
   "metadata": {}
  },
  {
   "cell_type": "code",
   "execution_count": null,
   "source": [],
   "outputs": [],
   "metadata": {}
  }
 ],
 "metadata": {
  "orig_nbformat": 4,
  "language_info": {
   "name": "python",
   "version": "3.8.5",
   "mimetype": "text/x-python",
   "codemirror_mode": {
    "name": "ipython",
    "version": 3
   },
   "pygments_lexer": "ipython3",
   "nbconvert_exporter": "python",
   "file_extension": ".py"
  },
  "kernelspec": {
   "name": "python3",
   "display_name": "Python 3.8.5 64-bit ('DataScience': conda)"
  },
  "interpreter": {
   "hash": "fc3dc48ea61c8fa3040668c16766cca4cbc4448de8c8527955c28045cb69eaa2"
  }
 },
 "nbformat": 4,
 "nbformat_minor": 2
}