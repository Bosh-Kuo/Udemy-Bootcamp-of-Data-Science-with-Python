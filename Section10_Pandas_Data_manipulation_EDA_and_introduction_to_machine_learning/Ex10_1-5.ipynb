{
 "cells": [
  {
   "cell_type": "code",
   "execution_count": 1,
   "source": [
    "import pandas as pd\n",
    "\n",
    "df = pd.read_csv('FAOSTAT_data_12-5-2020.csv')\n",
    "print(df.head(n = 3))\n",
    "print(\"\\n\",df.tail(n = 2))\n"
   ],
   "outputs": [
    {
     "output_type": "stream",
     "name": "stdout",
     "text": [
      "  Domain Code Domain  Area Code       Area  Element Code Element  Item Code  \\\n",
      "0          QC  Crops          9  Argentina          5419   Yield        515   \n",
      "1          QC  Crops          9  Argentina          5419   Yield        515   \n",
      "2          QC  Crops          9  Argentina          5419   Yield        515   \n",
      "\n",
      "     Item  Year Code  Year   Unit   Value Flag Flag Description  \n",
      "0  Apples       2016  2016  hg/ha  223912   Fc  Calculated data  \n",
      "1  Apples       2017  2017  hg/ha  235386   Fc  Calculated data  \n",
      "2  Apples       2018  2018  hg/ha  213072   Fc  Calculated data  \n",
      "\n",
      "    Domain Code Domain  Area Code                      Area  Element Code  \\\n",
      "64          QC  Crops        231  United States of America          5510   \n",
      "65          QC  Crops        231  United States of America          5510   \n",
      "\n",
      "       Element  Item Code      Item  Year Code  Year    Unit     Value Flag  \\\n",
      "64  Production        388  Tomatoes       2017  2017  tonnes  11141862  NaN   \n",
      "65  Production        388  Tomatoes       2018  2018  tonnes  12612139  NaN   \n",
      "\n",
      "   Flag Description  \n",
      "64    Official data  \n",
      "65    Official data  \n"
     ]
    }
   ],
   "metadata": {}
  },
  {
   "cell_type": "code",
   "execution_count": 3,
   "source": [
    "# DataFrame columns and index\n",
    "print(df.columns, df.index)\n",
    "\n",
    "# DataFrame shape\n",
    "print('\\n', df.shape)\n",
    "\n",
    "# data type in each column\n",
    "print('\\n', df.dtypes)"
   ],
   "outputs": [
    {
     "output_type": "stream",
     "name": "stdout",
     "text": [
      "Index(['Domain Code', 'Domain', 'Area Code', 'Area', 'Element Code', 'Element',\n",
      "       'Item Code', 'Item', 'Year Code', 'Year', 'Unit', 'Value', 'Flag',\n",
      "       'Flag Description'],\n",
      "      dtype='object') RangeIndex(start=0, stop=66, step=1)\n",
      "\n",
      " (66, 14)\n",
      "\n",
      " Domain Code         object\n",
      "Domain              object\n",
      "Area Code            int64\n",
      "Area                object\n",
      "Element Code         int64\n",
      "Element             object\n",
      "Item Code            int64\n",
      "Item                object\n",
      "Year Code            int64\n",
      "Year                 int64\n",
      "Unit                object\n",
      "Value                int64\n",
      "Flag                object\n",
      "Flag Description    object\n",
      "dtype: object\n"
     ]
    }
   ],
   "metadata": {}
  },
  {
   "cell_type": "code",
   "execution_count": 5,
   "source": [
    "# dataset information\n",
    "print(df.info())"
   ],
   "outputs": [
    {
     "output_type": "stream",
     "name": "stdout",
     "text": [
      "<class 'pandas.core.frame.DataFrame'>\n",
      "RangeIndex: 66 entries, 0 to 65\n",
      "Data columns (total 14 columns):\n",
      " #   Column            Non-Null Count  Dtype \n",
      "---  ------            --------------  ----- \n",
      " 0   Domain Code       66 non-null     object\n",
      " 1   Domain            66 non-null     object\n",
      " 2   Area Code         66 non-null     int64 \n",
      " 3   Area              66 non-null     object\n",
      " 4   Element Code      66 non-null     int64 \n",
      " 5   Element           66 non-null     object\n",
      " 6   Item Code         66 non-null     int64 \n",
      " 7   Item              66 non-null     object\n",
      " 8   Year Code         66 non-null     int64 \n",
      " 9   Year              66 non-null     int64 \n",
      " 10  Unit              66 non-null     object\n",
      " 11  Value             66 non-null     int64 \n",
      " 12  Flag              43 non-null     object\n",
      " 13  Flag Description  66 non-null     object\n",
      "dtypes: int64(6), object(8)\n",
      "memory usage: 7.3+ KB\n",
      "None\n"
     ]
    }
   ],
   "metadata": {}
  },
  {
   "cell_type": "code",
   "execution_count": 7,
   "source": [
    "# unique values in the Area, Element and Item columns\n",
    "print('Area:', df['Area'].unique())\n",
    "print('\\nElement:', df['Element'].unique())\n",
    "print('\\nItems:', df['Item'].unique())\n"
   ],
   "outputs": [
    {
     "output_type": "stream",
     "name": "stdout",
     "text": [
      "Area: ['Argentina' 'Brazil' 'United States of America']\n",
      "\n",
      "Element: ['Yield' 'Production']\n",
      "\n",
      "Items: ['Apples' 'Bananas' 'Cherries' 'Tomatoes']\n"
     ]
    }
   ],
   "metadata": {}
  },
  {
   "cell_type": "code",
   "execution_count": 8,
   "source": [
    "# Remove the columns: 'Domain Code', 'Domain', 'Area Code', 'Element Code', 'Item Code', 'Year Code', 'Flag', 'Flag Description'\n",
    "col = ['Domain Code', 'Domain', 'Area Code', 'Element Code', 'Item Code', 'Year Code', 'Flag', 'Flag Description']\n",
    "df.drop(columns = col, axis = 1, inplace = True)\n",
    "print(df.head(n = 2))"
   ],
   "outputs": [
    {
     "output_type": "stream",
     "name": "stdout",
     "text": [
      "        Area Element    Item  Year   Unit   Value\n",
      "0  Argentina   Yield  Apples  2016  hg/ha  223912\n",
      "1  Argentina   Yield  Apples  2017  hg/ha  235386\n"
     ]
    }
   ],
   "metadata": {}
  },
  {
   "cell_type": "code",
   "execution_count": 9,
   "source": [
    "# converts the name of each country into their respective acronyms\n",
    "def edit_countries_name(country):\n",
    "    if country == 'Argentina':\n",
    "        return 'AR'\n",
    "    elif country == 'United States of America':\n",
    "        return 'USA'\n",
    "    else:\n",
    "        return 'BR'\n",
    "df['Area'] = df['Area'].apply(edit_countries_name)\n",
    "\n",
    "# Convert the value column dtype to float\n",
    "df['Value'] = df['Value'].astype(float)\n",
    "\n",
    "# Create a new column called Country / Commodity\n",
    "df['Country/Commodity'] = df['Area']+' '+df['Item']\n",
    "\n",
    "# Group the data into production and productivity\n",
    "production = df.groupby('Element').get_group('Production')\n",
    "yield_ = df.groupby('Element').get_group('Yield')\n",
    "\n",
    "# Change the shape of the dataframes with the pivot function, so that the new objects have a 'Year' index, \n",
    "# a 'Country / Commodity' column and the values correspond to a 'Value' column\n",
    "production = production.pivot(index = 'Year', columns = 'Country/Commodity', values = 'Value')\n",
    "yield_ = yield_.pivot(index = 'Year', columns = 'Country/Commodity', values = 'Value')\n",
    "print(production,'\\n')\n",
    "print(yield_)\n"
   ],
   "outputs": [
    {
     "output_type": "stream",
     "name": "stdout",
     "text": [
      "Country/Commodity  AR Apples  AR Bananas  AR Cherries  AR Tomatoes  BR Apples  \\\n",
      "Year                                                                            \n",
      "2016                458908.0    174644.0       7207.0     658237.0  1055383.0   \n",
      "2017                458908.0    174615.0       7246.0     655861.0  1307642.0   \n",
      "2018                510478.0    174585.0       7285.0     653485.0  1195007.0   \n",
      "\n",
      "Country/Commodity  BR Bananas  BR Tomatoes  USA Apples  USA Bananas  \\\n",
      "Year                                                                  \n",
      "2016                6625211.0    4166789.0   5214040.0       3387.0   \n",
      "2017                6584967.0    4225414.0   5240670.0       3992.0   \n",
      "2018                6752171.0    4110242.0   4652500.0       4274.0   \n",
      "\n",
      "Country/Commodity  USA Cherries  USA Tomatoes  \n",
      "Year                                           \n",
      "2016                   315454.0    12877049.0  \n",
      "2017                   398140.0    11141862.0  \n",
      "2018                   312430.0    12612139.0   \n",
      "\n",
      "Country/Commodity  AR Apples  AR Bananas  AR Cherries  AR Tomatoes  BR Apples  \\\n",
      "Year                                                                            \n",
      "2016                223912.0    209247.0      28417.0     393807.0   308465.0   \n",
      "2017                235386.0    209343.0      30220.0     394319.0   392355.0   \n",
      "2018                213072.0    209440.0      29790.0     394832.0   361805.0   \n",
      "\n",
      "Country/Commodity  BR Bananas  BR Tomatoes  USA Apples  USA Bananas  \\\n",
      "Year                                                                  \n",
      "2016                 142855.0     651112.0    391856.0     115204.0   \n",
      "2017                 142728.0     688145.0    394569.0     158413.0   \n",
      "2018                 150287.0     719404.0    394802.0     163756.0   \n",
      "\n",
      "Country/Commodity  USA Cherries  USA Tomatoes  \n",
      "Year                                           \n",
      "2016                    86902.0      911398.0  \n",
      "2017                   108960.0      886625.0  \n",
      "2018                    90828.0      968079.0  \n"
     ]
    }
   ],
   "metadata": {}
  },
  {
   "cell_type": "code",
   "execution_count": 10,
   "source": [
    "# Concatenate the objects created in the previous exercise\n",
    "df_mod = pd.concat([production, yield_], axis = 0, keys = ['Production', 'Yield'])\n",
    "print(df_mod)"
   ],
   "outputs": [
    {
     "output_type": "stream",
     "name": "stdout",
     "text": [
      "Country/Commodity  AR Apples  AR Bananas  AR Cherries  AR Tomatoes  BR Apples  \\\n",
      "           Year                                                                 \n",
      "Production 2016     458908.0    174644.0       7207.0     658237.0  1055383.0   \n",
      "           2017     458908.0    174615.0       7246.0     655861.0  1307642.0   \n",
      "           2018     510478.0    174585.0       7285.0     653485.0  1195007.0   \n",
      "Yield      2016     223912.0    209247.0      28417.0     393807.0   308465.0   \n",
      "           2017     235386.0    209343.0      30220.0     394319.0   392355.0   \n",
      "           2018     213072.0    209440.0      29790.0     394832.0   361805.0   \n",
      "\n",
      "Country/Commodity  BR Bananas  BR Tomatoes  USA Apples  USA Bananas  \\\n",
      "           Year                                                       \n",
      "Production 2016     6625211.0    4166789.0   5214040.0       3387.0   \n",
      "           2017     6584967.0    4225414.0   5240670.0       3992.0   \n",
      "           2018     6752171.0    4110242.0   4652500.0       4274.0   \n",
      "Yield      2016      142855.0     651112.0    391856.0     115204.0   \n",
      "           2017      142728.0     688145.0    394569.0     158413.0   \n",
      "           2018      150287.0     719404.0    394802.0     163756.0   \n",
      "\n",
      "Country/Commodity  USA Cherries  USA Tomatoes  \n",
      "           Year                                \n",
      "Production 2016        315454.0    12877049.0  \n",
      "           2017        398140.0    11141862.0  \n",
      "           2018        312430.0    12612139.0  \n",
      "Yield      2016         86902.0      911398.0  \n",
      "           2017        108960.0      886625.0  \n",
      "           2018         90828.0      968079.0  \n"
     ]
    }
   ],
   "metadata": {}
  },
  {
   "cell_type": "code",
   "execution_count": null,
   "source": [],
   "outputs": [],
   "metadata": {}
  }
 ],
 "metadata": {
  "orig_nbformat": 4,
  "language_info": {
   "name": "python",
   "version": "3.8.5",
   "mimetype": "text/x-python",
   "codemirror_mode": {
    "name": "ipython",
    "version": 3
   },
   "pygments_lexer": "ipython3",
   "nbconvert_exporter": "python",
   "file_extension": ".py"
  },
  "kernelspec": {
   "name": "python3",
   "display_name": "Python 3.8.5 64-bit ('DataScience': conda)"
  },
  "interpreter": {
   "hash": "fc3dc48ea61c8fa3040668c16766cca4cbc4448de8c8527955c28045cb69eaa2"
  }
 },
 "nbformat": 4,
 "nbformat_minor": 2
}