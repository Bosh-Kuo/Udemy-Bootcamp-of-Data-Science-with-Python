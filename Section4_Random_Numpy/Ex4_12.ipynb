{
 "cells": [
  {
   "cell_type": "code",
   "execution_count": 3,
   "source": [
    "import matplotlib.pyplot as plt\n",
    "import seaborn as sns\n",
    "from numpy import random\n",
    "import pandas as pd\n",
    "\n",
    "array = random.randn(30, 3)\n",
    "df = pd.DataFrame(data = array, columns = list('ABC'))\n",
    "df.head"
   ],
   "outputs": [
    {
     "output_type": "execute_result",
     "data": {
      "text/plain": [
       "<bound method NDFrame.head of            A         B         C\n",
       "0  -1.678045 -1.897321 -0.406629\n",
       "1   0.217994 -0.834183  1.327099\n",
       "2   0.922360  0.036057  0.317557\n",
       "3  -2.263020  1.014170 -0.334792\n",
       "4  -0.082061 -0.212336 -0.360734\n",
       "5  -1.694203  1.720820 -0.431029\n",
       "6   0.346491  0.536481 -0.767786\n",
       "7  -1.052855 -1.009164  0.735267\n",
       "8  -0.148677 -0.821890 -1.183519\n",
       "9   1.108750 -1.640582 -0.102067\n",
       "10  0.684139  0.299045 -0.014229\n",
       "11 -0.159975  1.117260 -0.106915\n",
       "12  0.610911  0.977423 -0.563586\n",
       "13  0.288230  0.884327 -0.435894\n",
       "14 -0.502971 -0.875423  0.096785\n",
       "15 -0.770476 -0.399239  1.043500\n",
       "16 -1.303783 -0.949464 -1.229517\n",
       "17  1.118487  0.310806 -0.669497\n",
       "18  0.070026  1.032592 -2.535184\n",
       "19  0.461167  2.149220 -0.368722\n",
       "20  0.301684 -0.928883 -0.276977\n",
       "21 -0.306158 -0.517422  0.168060\n",
       "22  0.461623  0.807621  1.416353\n",
       "23  1.119378  1.323467 -0.706738\n",
       "24 -0.442353 -1.216388  0.546279\n",
       "25 -0.671512 -0.980787 -1.666752\n",
       "26  1.269401  0.253535  0.723302\n",
       "27  1.612897 -0.250670 -0.128918\n",
       "28  1.075613 -1.352916  1.644535\n",
       "29  2.054158 -1.738548 -0.576179>"
      ]
     },
     "metadata": {},
     "execution_count": 3
    }
   ],
   "metadata": {}
  },
  {
   "cell_type": "code",
   "execution_count": 4,
   "source": [
    "sns.displot(df)\n",
    "plt.show()\n"
   ],
   "outputs": [
    {
     "output_type": "display_data",
     "data": {
      "text/plain": [
       "<Figure size 402.875x360 with 1 Axes>"
      ],
      "image/png": "[encoded data removed]"
     },
     "metadata": {
      "needs_background": "light"
     }
    }
   ],
   "metadata": {}
  },
  {
   "cell_type": "code",
   "execution_count": null,
   "source": [],
   "outputs": [],
   "metadata": {}
  }
 ],
 "metadata": {
  "orig_nbformat": 4,
  "language_info": {
   "name": "python",
   "version": "3.8.5",
   "mimetype": "text/x-python",
   "codemirror_mode": {
    "name": "ipython",
    "version": 3
   },
   "pygments_lexer": "ipython3",
   "nbconvert_exporter": "python",
   "file_extension": ".py"
  },
  "kernelspec": {
   "name": "python3",
   "display_name": "Python 3.8.5 64-bit ('DataScience': conda)"
  },
  "interpreter": {
   "hash": "fc3dc48ea61c8fa3040668c16766cca4cbc4448de8c8527955c28045cb69eaa2"
  }
 },
 "nbformat": 4,
 "nbformat_minor": 2
}