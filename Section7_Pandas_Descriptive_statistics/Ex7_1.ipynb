{
 "cells": [
  {
   "cell_type": "code",
   "execution_count": 3,
   "source": [
    "import pandas as pd\n",
    "import numpy as np\n",
    "\n",
    "dados = {\n",
    "    'Abacate':{\n",
    "        2017: 212873,\n",
    "        2018: 236177,\n",
    "        2019: 242932\n",
    "    },    \n",
    "    'Açaí':{\n",
    "        2017:1335040,\n",
    "        2018:1301472,\n",
    "        2019:1398328\n",
    "    },\n",
    "    'Banana':{\n",
    "        2017:6584967,\n",
    "        2018:6723590,\n",
    "        2019:6812708\n",
    "    },    \n",
    "    'Cacau':{\n",
    "        2017:235809,\n",
    "        2018:239318,\n",
    "        2019:259425\n",
    "    },    \n",
    "    'Laranja':{\n",
    "        2017:17492882,\n",
    "        2018:16841549,\n",
    "        2019:17073593\n",
    "    },    \n",
    "    'Maçã':{\n",
    "        2017:1307642,\n",
    "        2018:1203007,\n",
    "        2019:1222970\n",
    "    },\n",
    "    'Mamão':{\n",
    "        2017:1058487,\n",
    "        2018:1065421,\n",
    "        2019:1161808\n",
    "    },    \n",
    "    'Manga':{\n",
    "        2017:1089882,\n",
    "        2018:1320458,\n",
    "        2019:1414338\n",
    "    },\n",
    " \n",
    "}\n",
    "df = pd.DataFrame(dados)\n",
    "print(df)"
   ],
   "outputs": [
    {
     "output_type": "stream",
     "name": "stdout",
     "text": [
      "      Abacate     Açaí   Banana   Cacau   Laranja     Maçã    Mamão    Manga\n",
      "2017   212873  1335040  6584967  235809  17492882  1307642  1058487  1089882\n",
      "2018   236177  1301472  6723590  239318  16841549  1203007  1065421  1320458\n",
      "2019   242932  1398328  6812708  259425  17073593  1222970  1161808  1414338\n"
     ]
    }
   ],
   "metadata": {}
  },
  {
   "cell_type": "markdown",
   "source": [
    "## a) obtain the total amount produced by tillages in each year"
   ],
   "metadata": {}
  },
  {
   "cell_type": "code",
   "execution_count": 7,
   "source": [
    "df.sum(axis=1)"
   ],
   "outputs": [
    {
     "output_type": "execute_result",
     "data": {
      "text/plain": [
       "2017    29317582\n",
       "2018    28930992\n",
       "2019    29586102\n",
       "dtype: int64"
      ]
     },
     "metadata": {},
     "execution_count": 7
    }
   ],
   "metadata": {}
  },
  {
   "cell_type": "markdown",
   "source": [
    "## b) obtain the total amount produced by each tillage over time"
   ],
   "metadata": {}
  },
  {
   "cell_type": "code",
   "execution_count": 8,
   "source": [
    "df.sum(axis=0)"
   ],
   "outputs": [
    {
     "output_type": "execute_result",
     "data": {
      "text/plain": [
       "Abacate      691982\n",
       "Açaí        4034840\n",
       "Banana     20121265\n",
       "Cacau        734552\n",
       "Laranja    51408024\n",
       "Maçã        3733619\n",
       "Mamão       3285716\n",
       "Manga       3824678\n",
       "dtype: int64"
      ]
     },
     "metadata": {},
     "execution_count": 8
    }
   ],
   "metadata": {}
  },
  {
   "cell_type": "markdown",
   "source": [
    "## c) show a summary of the descriptive statistics"
   ],
   "metadata": {}
  },
  {
   "cell_type": "code",
   "execution_count": 9,
   "source": [
    "df.describe()"
   ],
   "outputs": [
    {
     "output_type": "execute_result",
     "data": {
      "text/plain": [
       "             Abacate          Açaí        Banana          Cacau       Laranja  \\\n",
       "count       3.000000  3.000000e+00  3.000000e+00       3.000000  3.000000e+00   \n",
       "mean   230660.666667  1.344947e+06  6.707088e+06  244850.666667  1.713601e+07   \n",
       "std     15770.488906  4.918209e+04  1.147638e+05   12743.102618  3.301218e+05   \n",
       "min    212873.000000  1.301472e+06  6.584967e+06  235809.000000  1.684155e+07   \n",
       "25%    224525.000000  1.318256e+06  6.654278e+06  237563.500000  1.695757e+07   \n",
       "50%    236177.000000  1.335040e+06  6.723590e+06  239318.000000  1.707359e+07   \n",
       "75%    239554.500000  1.366684e+06  6.768149e+06  249371.500000  1.728324e+07   \n",
       "max    242932.000000  1.398328e+06  6.812708e+06  259425.000000  1.749288e+07   \n",
       "\n",
       "               Maçã         Mamão         Manga  \n",
       "count  3.000000e+00  3.000000e+00  3.000000e+00  \n",
       "mean   1.244540e+06  1.095239e+06  1.274893e+06  \n",
       "std    5.555231e+04  5.775489e+04  1.669583e+05  \n",
       "min    1.203007e+06  1.058487e+06  1.089882e+06  \n",
       "25%    1.212988e+06  1.061954e+06  1.205170e+06  \n",
       "50%    1.222970e+06  1.065421e+06  1.320458e+06  \n",
       "75%    1.265306e+06  1.113614e+06  1.367398e+06  \n",
       "max    1.307642e+06  1.161808e+06  1.414338e+06  "
      ],
      "text/html": [
       "<div>\n",
       "<style scoped>\n",
       "    .dataframe tbody tr th:only-of-type {\n",
       "        vertical-align: middle;\n",
       "    }\n",
       "\n",
       "    .dataframe tbody tr th {\n",
       "        vertical-align: top;\n",
       "    }\n",
       "\n",
       "    .dataframe thead th {\n",
       "        text-align: right;\n",
       "    }\n",
       "</style>\n",
       "<table border=\"1\" class=\"dataframe\">\n",
       "  <thead>\n",
       "    <tr style=\"text-align: right;\">\n",
       "      <th></th>\n",
       "      <th>Abacate</th>\n",
       "      <th>Açaí</th>\n",
       "      <th>Banana</th>\n",
       "      <th>Cacau</th>\n",
       "      <th>Laranja</th>\n",
       "      <th>Maçã</th>\n",
       "      <th>Mamão</th>\n",
       "      <th>Manga</th>\n",
       "    </tr>\n",
       "  </thead>\n",
       "  <tbody>\n",
       "    <tr>\n",
       "      <th>count</th>\n",
       "      <td>3.000000</td>\n",
       "      <td>3.000000e+00</td>\n",
       "      <td>3.000000e+00</td>\n",
       "      <td>3.000000</td>\n",
       "      <td>3.000000e+00</td>\n",
       "      <td>3.000000e+00</td>\n",
       "      <td>3.000000e+00</td>\n",
       "      <td>3.000000e+00</td>\n",
       "    </tr>\n",
       "    <tr>\n",
       "      <th>mean</th>\n",
       "      <td>230660.666667</td>\n",
       "      <td>1.344947e+06</td>\n",
       "      <td>6.707088e+06</td>\n",
       "      <td>244850.666667</td>\n",
       "      <td>1.713601e+07</td>\n",
       "      <td>1.244540e+06</td>\n",
       "      <td>1.095239e+06</td>\n",
       "      <td>1.274893e+06</td>\n",
       "    </tr>\n",
       "    <tr>\n",
       "      <th>std</th>\n",
       "      <td>15770.488906</td>\n",
       "      <td>4.918209e+04</td>\n",
       "      <td>1.147638e+05</td>\n",
       "      <td>12743.102618</td>\n",
       "      <td>3.301218e+05</td>\n",
       "      <td>5.555231e+04</td>\n",
       "      <td>5.775489e+04</td>\n",
       "      <td>1.669583e+05</td>\n",
       "    </tr>\n",
       "    <tr>\n",
       "      <th>min</th>\n",
       "      <td>212873.000000</td>\n",
       "      <td>1.301472e+06</td>\n",
       "      <td>6.584967e+06</td>\n",
       "      <td>235809.000000</td>\n",
       "      <td>1.684155e+07</td>\n",
       "      <td>1.203007e+06</td>\n",
       "      <td>1.058487e+06</td>\n",
       "      <td>1.089882e+06</td>\n",
       "    </tr>\n",
       "    <tr>\n",
       "      <th>25%</th>\n",
       "      <td>224525.000000</td>\n",
       "      <td>1.318256e+06</td>\n",
       "      <td>6.654278e+06</td>\n",
       "      <td>237563.500000</td>\n",
       "      <td>1.695757e+07</td>\n",
       "      <td>1.212988e+06</td>\n",
       "      <td>1.061954e+06</td>\n",
       "      <td>1.205170e+06</td>\n",
       "    </tr>\n",
       "    <tr>\n",
       "      <th>50%</th>\n",
       "      <td>236177.000000</td>\n",
       "      <td>1.335040e+06</td>\n",
       "      <td>6.723590e+06</td>\n",
       "      <td>239318.000000</td>\n",
       "      <td>1.707359e+07</td>\n",
       "      <td>1.222970e+06</td>\n",
       "      <td>1.065421e+06</td>\n",
       "      <td>1.320458e+06</td>\n",
       "    </tr>\n",
       "    <tr>\n",
       "      <th>75%</th>\n",
       "      <td>239554.500000</td>\n",
       "      <td>1.366684e+06</td>\n",
       "      <td>6.768149e+06</td>\n",
       "      <td>249371.500000</td>\n",
       "      <td>1.728324e+07</td>\n",
       "      <td>1.265306e+06</td>\n",
       "      <td>1.113614e+06</td>\n",
       "      <td>1.367398e+06</td>\n",
       "    </tr>\n",
       "    <tr>\n",
       "      <th>max</th>\n",
       "      <td>242932.000000</td>\n",
       "      <td>1.398328e+06</td>\n",
       "      <td>6.812708e+06</td>\n",
       "      <td>259425.000000</td>\n",
       "      <td>1.749288e+07</td>\n",
       "      <td>1.307642e+06</td>\n",
       "      <td>1.161808e+06</td>\n",
       "      <td>1.414338e+06</td>\n",
       "    </tr>\n",
       "  </tbody>\n",
       "</table>\n",
       "</div>"
      ]
     },
     "metadata": {},
     "execution_count": 9
    }
   ],
   "metadata": {}
  },
  {
   "cell_type": "markdown",
   "source": [
    "## d) convert the database to csv."
   ],
   "metadata": {}
  },
  {
   "cell_type": "code",
   "execution_count": 12,
   "source": [
    "df.to_csv('tillages.csv', index_label=\"Year\")"
   ],
   "outputs": [],
   "metadata": {}
  },
  {
   "cell_type": "code",
   "execution_count": null,
   "source": [],
   "outputs": [],
   "metadata": {}
  }
 ],
 "metadata": {
  "orig_nbformat": 4,
  "language_info": {
   "name": "python",
   "version": "3.8.5",
   "mimetype": "text/x-python",
   "codemirror_mode": {
    "name": "ipython",
    "version": 3
   },
   "pygments_lexer": "ipython3",
   "nbconvert_exporter": "python",
   "file_extension": ".py"
  },
  "kernelspec": {
   "name": "python3",
   "display_name": "Python 3.8.5 64-bit ('DataScience': conda)"
  },
  "interpreter": {
   "hash": "fc3dc48ea61c8fa3040668c16766cca4cbc4448de8c8527955c28045cb69eaa2"
  }
 },
 "nbformat": 4,
 "nbformat_minor": 2
}