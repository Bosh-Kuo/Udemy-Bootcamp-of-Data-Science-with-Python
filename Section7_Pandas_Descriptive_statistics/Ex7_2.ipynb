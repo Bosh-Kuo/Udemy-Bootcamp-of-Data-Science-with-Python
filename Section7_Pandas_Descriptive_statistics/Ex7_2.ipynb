{
 "cells": [
  {
   "cell_type": "code",
   "execution_count": 12,
   "source": [
    "import pandas as pd\n",
    "\n",
    "df = pd.read_csv('tillages.csv', index_col=\"Year\")\n",
    "print(df)\n"
   ],
   "outputs": [
    {
     "output_type": "stream",
     "name": "stdout",
     "text": [
      "      Abacate     Açaí   Banana   Cacau   Laranja     Maçã    Mamão    Manga\n",
      "Year                                                                        \n",
      "2017   212873  1335040  6584967  235809  17492882  1307642  1058487  1089882\n",
      "2018   236177  1301472  6723590  239318  16841549  1203007  1065421  1320458\n",
      "2019   242932  1398328  6812708  259425  17073593  1222970  1161808  1414338\n"
     ]
    }
   ],
   "metadata": {}
  },
  {
   "cell_type": "markdown",
   "source": [
    "## a) average of the total amount produced from the respective tillages in 2017, 2018 and 2019"
   ],
   "metadata": {}
  },
  {
   "cell_type": "code",
   "execution_count": 14,
   "source": [
    "df.mean(axis=1)"
   ],
   "outputs": [
    {
     "output_type": "execute_result",
     "data": {
      "text/plain": [
       "Year\n",
       "2017    3664697.75\n",
       "2018    3616374.00\n",
       "2019    3698262.75\n",
       "dtype: float64"
      ]
     },
     "metadata": {},
     "execution_count": 14
    }
   ],
   "metadata": {}
  },
  {
   "cell_type": "markdown",
   "source": [
    "## b) average of the quantity produced from each tillage between the selected period"
   ],
   "metadata": {}
  },
  {
   "cell_type": "code",
   "execution_count": 15,
   "source": [
    "df.mean(axis=0)"
   ],
   "outputs": [
    {
     "output_type": "execute_result",
     "data": {
      "text/plain": [
       "Abacate    2.306607e+05\n",
       "Açaí       1.344947e+06\n",
       "Banana     6.707088e+06\n",
       "Cacau      2.448507e+05\n",
       "Laranja    1.713601e+07\n",
       "Maçã       1.244540e+06\n",
       "Mamão      1.095239e+06\n",
       "Manga      1.274893e+06\n",
       "dtype: float64"
      ]
     },
     "metadata": {},
     "execution_count": 15
    }
   ],
   "metadata": {}
  },
  {
   "cell_type": "markdown",
   "source": [
    "## c) standard deviation of the total amount produced from the respective tillages in 2017, 2018 and 2019"
   ],
   "metadata": {}
  },
  {
   "cell_type": "code",
   "execution_count": 17,
   "source": [
    "df.std(axis=1)"
   ],
   "outputs": [
    {
     "output_type": "execute_result",
     "data": {
      "text/plain": [
       "Year\n",
       "2017    5.950079e+06\n",
       "2018    5.736500e+06\n",
       "2019    5.799394e+06\n",
       "dtype: float64"
      ]
     },
     "metadata": {},
     "execution_count": 17
    }
   ],
   "metadata": {}
  },
  {
   "cell_type": "markdown",
   "source": [
    "## d) standard deviation of the quantity produced for each tillage between the selected period"
   ],
   "metadata": {}
  },
  {
   "cell_type": "code",
   "execution_count": 18,
   "source": [
    "df.std(axis=0)"
   ],
   "outputs": [
    {
     "output_type": "execute_result",
     "data": {
      "text/plain": [
       "Abacate     15770.488906\n",
       "Açaí        49182.087363\n",
       "Banana     114763.755264\n",
       "Cacau       12743.102618\n",
       "Laranja    330121.785696\n",
       "Maçã        55552.305950\n",
       "Mamão       57754.888921\n",
       "Manga      166958.299241\n",
       "dtype: float64"
      ]
     },
     "metadata": {},
     "execution_count": 18
    }
   ],
   "metadata": {}
  },
  {
   "cell_type": "markdown",
   "source": [
    "## e) variance in the total amount produced from the respective tillages in 2017, 2018 and 2019"
   ],
   "metadata": {}
  },
  {
   "cell_type": "code",
   "execution_count": 19,
   "source": [
    "df.var(axis=1)"
   ],
   "outputs": [
    {
     "output_type": "execute_result",
     "data": {
      "text/plain": [
       "Year\n",
       "2017    3.540344e+13\n",
       "2018    3.290743e+13\n",
       "2019    3.363298e+13\n",
       "dtype: float64"
      ]
     },
     "metadata": {},
     "execution_count": 19
    }
   ],
   "metadata": {}
  },
  {
   "cell_type": "markdown",
   "source": [
    "## f) variance of the quantity produced for each tillage between the selected period"
   ],
   "metadata": {}
  },
  {
   "cell_type": "code",
   "execution_count": 20,
   "source": [
    "df.var(axis=0)"
   ],
   "outputs": [
    {
     "output_type": "execute_result",
     "data": {
      "text/plain": [
       "Abacate    2.487083e+08\n",
       "Açaí       2.418878e+09\n",
       "Banana     1.317072e+10\n",
       "Cacau      1.623867e+08\n",
       "Laranja    1.089804e+11\n",
       "Maçã       3.086059e+09\n",
       "Mamão      3.335627e+09\n",
       "Manga      2.787507e+10\n",
       "dtype: float64"
      ]
     },
     "metadata": {},
     "execution_count": 20
    }
   ],
   "metadata": {}
  },
  {
   "cell_type": "code",
   "execution_count": null,
   "source": [],
   "outputs": [],
   "metadata": {}
  }
 ],
 "metadata": {
  "orig_nbformat": 4,
  "language_info": {
   "name": "python",
   "version": "3.8.5",
   "mimetype": "text/x-python",
   "codemirror_mode": {
    "name": "ipython",
    "version": 3
   },
   "pygments_lexer": "ipython3",
   "nbconvert_exporter": "python",
   "file_extension": ".py"
  },
  "kernelspec": {
   "name": "python3",
   "display_name": "Python 3.8.5 64-bit ('DataScience': conda)"
  },
  "interpreter": {
   "hash": "fc3dc48ea61c8fa3040668c16766cca4cbc4448de8c8527955c28045cb69eaa2"
  }
 },
 "nbformat": 4,
 "nbformat_minor": 2
}