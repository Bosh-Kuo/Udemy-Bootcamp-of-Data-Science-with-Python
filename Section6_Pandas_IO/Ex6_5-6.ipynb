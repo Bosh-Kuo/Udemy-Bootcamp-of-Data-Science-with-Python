{
 "cells": [
  {
   "cell_type": "markdown",
   "source": [
    "## Ex6_5"
   ],
   "metadata": {}
  },
  {
   "cell_type": "markdown",
   "source": [
    "## Load the CardioGoodFitness database attached in this class"
   ],
   "metadata": {}
  },
  {
   "cell_type": "code",
   "execution_count": 1,
   "source": [
    "import pandas as pd\n",
    "df = pd.read_csv('CardioGoodFitness.csv')\n"
   ],
   "outputs": [],
   "metadata": {}
  },
  {
   "cell_type": "markdown",
   "source": [
    "## Print the number of rows and columns of the dataset"
   ],
   "metadata": {}
  },
  {
   "cell_type": "code",
   "execution_count": 2,
   "source": [
    "print(df.shape)"
   ],
   "outputs": [
    {
     "output_type": "stream",
     "name": "stdout",
     "text": [
      "(180, 9)\n"
     ]
    }
   ],
   "metadata": {}
  },
  {
   "cell_type": "markdown",
   "source": [
    "## Print the first 3 lines of the DataFrame"
   ],
   "metadata": {}
  },
  {
   "cell_type": "code",
   "execution_count": 3,
   "source": [
    "print(df.head(n = 3))"
   ],
   "outputs": [
    {
     "output_type": "stream",
     "name": "stdout",
     "text": [
      "  Product  Age  Gender  Education MaritalStatus  Usage  Fitness  Income  Miles\n",
      "0   TM195   18    Male         14        Single      3        4   29562    112\n",
      "1   TM195   19    Male         15        Single      2        3   31836     75\n",
      "2   TM195   19  Female         14     Partnered      4        3   30699     66\n"
     ]
    }
   ],
   "metadata": {}
  },
  {
   "cell_type": "markdown",
   "source": [
    "## Print the last 2 lines of the DataFrame"
   ],
   "metadata": {}
  },
  {
   "cell_type": "code",
   "execution_count": 4,
   "source": [
    "print(df.tail(n = 2))"
   ],
   "outputs": [
    {
     "output_type": "stream",
     "name": "stdout",
     "text": [
      "    Product  Age Gender  Education MaritalStatus  Usage  Fitness  Income  \\\n",
      "178   TM798   47   Male         18     Partnered      4        5  104581   \n",
      "179   TM798   48   Male         18     Partnered      4        5   95508   \n",
      "\n",
      "     Miles  \n",
      "178    120  \n",
      "179    180  \n"
     ]
    }
   ],
   "metadata": {}
  },
  {
   "cell_type": "markdown",
   "source": [
    "## Print the data type for each column"
   ],
   "metadata": {}
  },
  {
   "cell_type": "code",
   "execution_count": 5,
   "source": [
    "print(df.dtypes)"
   ],
   "outputs": [
    {
     "output_type": "stream",
     "name": "stdout",
     "text": [
      "Product          object\n",
      "Age               int64\n",
      "Gender           object\n",
      "Education         int64\n",
      "MaritalStatus    object\n",
      "Usage             int64\n",
      "Fitness           int64\n",
      "Income            int64\n",
      "Miles             int64\n",
      "dtype: object\n"
     ]
    }
   ],
   "metadata": {}
  },
  {
   "cell_type": "markdown",
   "source": [
    "## Convert the Income column to float"
   ],
   "metadata": {}
  },
  {
   "cell_type": "code",
   "execution_count": 6,
   "source": [
    "df['Income'] = df['Income'].astype(float)\n",
    "print(df)"
   ],
   "outputs": [
    {
     "output_type": "stream",
     "name": "stdout",
     "text": [
      "    Product  Age  Gender  Education MaritalStatus  Usage  Fitness    Income  \\\n",
      "0     TM195   18    Male         14        Single      3        4   29562.0   \n",
      "1     TM195   19    Male         15        Single      2        3   31836.0   \n",
      "2     TM195   19  Female         14     Partnered      4        3   30699.0   \n",
      "3     TM195   19    Male         12        Single      3        3   32973.0   \n",
      "4     TM195   20    Male         13     Partnered      4        2   35247.0   \n",
      "..      ...  ...     ...        ...           ...    ...      ...       ...   \n",
      "175   TM798   40    Male         21        Single      6        5   83416.0   \n",
      "176   TM798   42    Male         18        Single      5        4   89641.0   \n",
      "177   TM798   45    Male         16        Single      5        5   90886.0   \n",
      "178   TM798   47    Male         18     Partnered      4        5  104581.0   \n",
      "179   TM798   48    Male         18     Partnered      4        5   95508.0   \n",
      "\n",
      "     Miles  \n",
      "0      112  \n",
      "1       75  \n",
      "2       66  \n",
      "3       85  \n",
      "4       47  \n",
      "..     ...  \n",
      "175    200  \n",
      "176    200  \n",
      "177    160  \n",
      "178    120  \n",
      "179    180  \n",
      "\n",
      "[180 rows x 9 columns]\n"
     ]
    }
   ],
   "metadata": {}
  },
  {
   "cell_type": "markdown",
   "source": [
    "## Print the unique values of the Product column"
   ],
   "metadata": {}
  },
  {
   "cell_type": "code",
   "execution_count": 7,
   "source": [
    "print(df['Product'].unique())\n"
   ],
   "outputs": [
    {
     "output_type": "stream",
     "name": "stdout",
     "text": [
      "['TM195' 'TM498' 'TM798']\n"
     ]
    }
   ],
   "metadata": {}
  },
  {
   "cell_type": "markdown",
   "source": [
    "## Print the unique values of the MaritalStatus column"
   ],
   "metadata": {}
  },
  {
   "cell_type": "code",
   "execution_count": 8,
   "source": [
    "print(df['MaritalStatus'].unique())"
   ],
   "outputs": [
    {
     "output_type": "stream",
     "name": "stdout",
     "text": [
      "['Single' 'Partnered']\n"
     ]
    }
   ],
   "metadata": {}
  },
  {
   "cell_type": "markdown",
   "source": [
    "## Print the proportion of men and women."
   ],
   "metadata": {}
  },
  {
   "cell_type": "code",
   "execution_count": 9,
   "source": [
    "print(df['Gender'].value_counts())\n"
   ],
   "outputs": [
    {
     "output_type": "stream",
     "name": "stdout",
     "text": [
      "Male      104\n",
      "Female     76\n",
      "Name: Gender, dtype: int64\n"
     ]
    }
   ],
   "metadata": {}
  },
  {
   "cell_type": "markdown",
   "source": [
    "## Ex6_6"
   ],
   "metadata": {}
  },
  {
   "cell_type": "code",
   "execution_count": 10,
   "source": [
    "df.to_json('CardioGoodFitness.json')"
   ],
   "outputs": [],
   "metadata": {}
  },
  {
   "cell_type": "code",
   "execution_count": null,
   "source": [],
   "outputs": [],
   "metadata": {}
  }
 ],
 "metadata": {
  "orig_nbformat": 4,
  "language_info": {
   "name": "python",
   "version": "3.8.5",
   "mimetype": "text/x-python",
   "codemirror_mode": {
    "name": "ipython",
    "version": 3
   },
   "pygments_lexer": "ipython3",
   "nbconvert_exporter": "python",
   "file_extension": ".py"
  },
  "kernelspec": {
   "name": "python3",
   "display_name": "Python 3.8.5 64-bit ('DataScience': conda)"
  },
  "interpreter": {
   "hash": "fc3dc48ea61c8fa3040668c16766cca4cbc4448de8c8527955c28045cb69eaa2"
  }
 },
 "nbformat": 4,
 "nbformat_minor": 2
}