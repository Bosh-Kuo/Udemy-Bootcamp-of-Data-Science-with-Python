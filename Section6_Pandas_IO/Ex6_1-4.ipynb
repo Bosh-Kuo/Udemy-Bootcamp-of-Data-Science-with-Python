{
 "cells": [
  {
   "cell_type": "markdown",
   "source": [
    "## Ex6_1"
   ],
   "metadata": {}
  },
  {
   "cell_type": "code",
   "execution_count": 1,
   "source": [
    "import pandas as pd\n",
    "df = pd.read_csv('respirators_distribution_Brazil.csv', sep = ';')\n",
    "print(df.head(n = 10))\n",
    "print()\n",
    "print(df.tail(n = 3))\n"
   ],
   "outputs": [
    {
     "output_type": "stream",
     "name": "stdout",
     "text": [
      "         DATA FORNECEDOR         DESTINO ESTADO/MUNICIPIO        TIPO  \\\n",
      "0  19/04/2020     VYAIRE  RIO DE JANEIRO           ESTADO         UTI   \n",
      "1  22/04/2020     VYAIRE  RIO DE JANEIRO           ESTADO         UTI   \n",
      "2  08/05/2020   MAGNAMED  RIO DE JANEIRO           ESTADO         UTI   \n",
      "3  08/05/2020        KTK  RIO DE JANEIRO           ESTADO         UTI   \n",
      "4  09/05/2020   LEISTUNG  RIO DE JANEIRO           ESTADO         UTI   \n",
      "5  09/05/2020     VYAIRE  RIO DE JANEIRO           ESTADO         UTI   \n",
      "6  09/05/2020     VYAIRE  RIO DE JANEIRO           ESTADO         UTI   \n",
      "7  09/05/2020   MAGNAMED  RIO DE JANEIRO           ESTADO         UTI   \n",
      "8  09/05/2020   MAGNAMED  RIO DE JANEIRO           ESTADO  TRANSPORTE   \n",
      "9  09/05/2020   MAGNAMED  RIO DE JANEIRO           ESTADO         UTI   \n",
      "\n",
      "   QUANTIDADE    VALOR                                       DESTINATARIO  UF  \n",
      "0          40  2400000  ALMOXARIFADO ESTADUAL DE MEDICAMENTOS - RIO DE...  RJ  \n",
      "1          20  1200000    LABORATÓRIO QUÍMICO FARMACÊUTICO DE AERONÁUTICA  RJ  \n",
      "2          25  1500000  ALMOXARIFADO ESTADUAL DE MEDICAMENTOS - RIO DE...  RJ  \n",
      "3          15   900000  ALMOXARIFADO ESTADUAL DE MEDICAMENTOS - RIO DE...  RJ  \n",
      "4           6   360000  ALMOXARIFADO ESTADUAL DE MEDICAMENTOS - RIO DE...  RJ  \n",
      "5           1    60000  ALMOXARIFADO ESTADUAL DE MEDICAMENTOS - RIO DE...  RJ  \n",
      "6          30  1800000  ALMOXARIFADO ESTADUAL DE MEDICAMENTOS - RIO DE...  RJ  \n",
      "7           8   480000  ALMOXARIFADO ESTADUAL DE MEDICAMENTOS - RIO DE...  RJ  \n",
      "8           4   193160  ALMOXARIFADO ESTADUAL DE MEDICAMENTOS - RIO DE...  RJ  \n",
      "9           1    60000  ALMOXARIFADO ESTADUAL DE MEDICAMENTOS - RIO DE...  RJ  \n",
      "\n",
      "            DATA           FORNECEDOR DESTINO ESTADO/MUNICIPIO  \\\n",
      "1602  24/09/2020                  KTK  PARANA        MUNICIPIO   \n",
      "1603  24/09/2020  VYAIRE LTV 2200 USA  PARANA        MUNICIPIO   \n",
      "1604  07/08/2020             MAGNAMED  LIBANO                -   \n",
      "\n",
      "                TIPO  QUANTIDADE     VALOR  \\\n",
      "1602             UTI           2    120000   \n",
      "1603  TRANSPORTE USA           1     63125   \n",
      "1604      TRANSPORTE         300  14487000   \n",
      "\n",
      "                                DESTINATARIO  UF  \n",
      "1602                           SMS de GUAIRA  PR  \n",
      "1603                           SMS de GUAIRA  PR  \n",
      "1604  MISSÃO FAB (Doação Destino ao Libano).   -  \n"
     ]
    }
   ],
   "metadata": {}
  },
  {
   "cell_type": "code",
   "execution_count": 2,
   "source": [
    "print(df.columns)"
   ],
   "outputs": [
    {
     "output_type": "stream",
     "name": "stdout",
     "text": [
      "Index(['DATA', 'FORNECEDOR', 'DESTINO', 'ESTADO/MUNICIPIO', 'TIPO',\n",
      "       'QUANTIDADE', 'VALOR', 'DESTINATARIO', 'UF'],\n",
      "      dtype='object')\n"
     ]
    }
   ],
   "metadata": {}
  },
  {
   "cell_type": "code",
   "execution_count": 3,
   "source": [
    "df.info()"
   ],
   "outputs": [
    {
     "output_type": "stream",
     "name": "stdout",
     "text": [
      "<class 'pandas.core.frame.DataFrame'>\n",
      "RangeIndex: 1605 entries, 0 to 1604\n",
      "Data columns (total 9 columns):\n",
      " #   Column            Non-Null Count  Dtype \n",
      "---  ------            --------------  ----- \n",
      " 0   DATA              1605 non-null   object\n",
      " 1   FORNECEDOR        1605 non-null   object\n",
      " 2   DESTINO           1605 non-null   object\n",
      " 3   ESTADO/MUNICIPIO  1605 non-null   object\n",
      " 4   TIPO              1605 non-null   object\n",
      " 5   QUANTIDADE        1605 non-null   int64 \n",
      " 6   VALOR             1605 non-null   int64 \n",
      " 7   DESTINATARIO      1605 non-null   object\n",
      " 8   UF                1605 non-null   object\n",
      "dtypes: int64(2), object(7)\n",
      "memory usage: 113.0+ KB\n"
     ]
    }
   ],
   "metadata": {}
  },
  {
   "cell_type": "code",
   "execution_count": 4,
   "source": [
    "df.dtypes"
   ],
   "outputs": [
    {
     "output_type": "execute_result",
     "data": {
      "text/plain": [
       "DATA                object\n",
       "FORNECEDOR          object\n",
       "DESTINO             object\n",
       "ESTADO/MUNICIPIO    object\n",
       "TIPO                object\n",
       "QUANTIDADE           int64\n",
       "VALOR                int64\n",
       "DESTINATARIO        object\n",
       "UF                  object\n",
       "dtype: object"
      ]
     },
     "metadata": {},
     "execution_count": 4
    }
   ],
   "metadata": {}
  },
  {
   "cell_type": "code",
   "execution_count": 5,
   "source": [
    "df.shape\n"
   ],
   "outputs": [
    {
     "output_type": "execute_result",
     "data": {
      "text/plain": [
       "(1605, 9)"
      ]
     },
     "metadata": {},
     "execution_count": 5
    }
   ],
   "metadata": {}
  },
  {
   "cell_type": "code",
   "execution_count": 6,
   "source": [
    "df.isna().sum()\n"
   ],
   "outputs": [
    {
     "output_type": "execute_result",
     "data": {
      "text/plain": [
       "DATA                0\n",
       "FORNECEDOR          0\n",
       "DESTINO             0\n",
       "ESTADO/MUNICIPIO    0\n",
       "TIPO                0\n",
       "QUANTIDADE          0\n",
       "VALOR               0\n",
       "DESTINATARIO        0\n",
       "UF                  0\n",
       "dtype: int64"
      ]
     },
     "metadata": {},
     "execution_count": 6
    }
   ],
   "metadata": {}
  },
  {
   "cell_type": "markdown",
   "source": [
    "## Ex6_2"
   ],
   "metadata": {}
  },
  {
   "cell_type": "code",
   "execution_count": 7,
   "source": [
    "df['DATA'] = pd.to_datetime(df['DATA'])\n",
    "print(df)\n",
    "df['VALOR'] = df['VALOR'].astype(float)\n",
    "print(df)"
   ],
   "outputs": [
    {
     "output_type": "stream",
     "name": "stdout",
     "text": [
      "           DATA           FORNECEDOR         DESTINO ESTADO/MUNICIPIO  \\\n",
      "0    2020-04-19               VYAIRE  RIO DE JANEIRO           ESTADO   \n",
      "1    2020-04-22               VYAIRE  RIO DE JANEIRO           ESTADO   \n",
      "2    2020-08-05             MAGNAMED  RIO DE JANEIRO           ESTADO   \n",
      "3    2020-08-05                  KTK  RIO DE JANEIRO           ESTADO   \n",
      "4    2020-09-05             LEISTUNG  RIO DE JANEIRO           ESTADO   \n",
      "...         ...                  ...             ...              ...   \n",
      "1600 2020-09-21             LEISTUNG          PARANA        MUNICIPIO   \n",
      "1601 2020-09-21             LEISTUNG          PARANA        MUNICIPIO   \n",
      "1602 2020-09-24                  KTK          PARANA        MUNICIPIO   \n",
      "1603 2020-09-24  VYAIRE LTV 2200 USA          PARANA        MUNICIPIO   \n",
      "1604 2020-07-08             MAGNAMED          LIBANO                -   \n",
      "\n",
      "                TIPO  QUANTIDADE     VALOR  \\\n",
      "0                UTI          40   2400000   \n",
      "1                UTI          20   1200000   \n",
      "2                UTI          25   1500000   \n",
      "3                UTI          15    900000   \n",
      "4                UTI           6    360000   \n",
      "...              ...         ...       ...   \n",
      "1600             UTI           5    300000   \n",
      "1601             UTI           1     60000   \n",
      "1602             UTI           2    120000   \n",
      "1603  TRANSPORTE USA           1     63125   \n",
      "1604      TRANSPORTE         300  14487000   \n",
      "\n",
      "                                           DESTINATARIO  UF  \n",
      "0     ALMOXARIFADO ESTADUAL DE MEDICAMENTOS - RIO DE...  RJ  \n",
      "1       LABORATÓRIO QUÍMICO FARMACÊUTICO DE AERONÁUTICA  RJ  \n",
      "2     ALMOXARIFADO ESTADUAL DE MEDICAMENTOS - RIO DE...  RJ  \n",
      "3     ALMOXARIFADO ESTADUAL DE MEDICAMENTOS - RIO DE...  RJ  \n",
      "4     ALMOXARIFADO ESTADUAL DE MEDICAMENTOS - RIO DE...  RJ  \n",
      "...                                                 ...  ..  \n",
      "1600                                   SMS de RIO NEGRO  PR  \n",
      "1601                                     SMS de IBIPORA  PR  \n",
      "1602                                      SMS de GUAIRA  PR  \n",
      "1603                                      SMS de GUAIRA  PR  \n",
      "1604             MISSÃO FAB (Doação Destino ao Libano).   -  \n",
      "\n",
      "[1605 rows x 9 columns]\n",
      "           DATA           FORNECEDOR         DESTINO ESTADO/MUNICIPIO  \\\n",
      "0    2020-04-19               VYAIRE  RIO DE JANEIRO           ESTADO   \n",
      "1    2020-04-22               VYAIRE  RIO DE JANEIRO           ESTADO   \n",
      "2    2020-08-05             MAGNAMED  RIO DE JANEIRO           ESTADO   \n",
      "3    2020-08-05                  KTK  RIO DE JANEIRO           ESTADO   \n",
      "4    2020-09-05             LEISTUNG  RIO DE JANEIRO           ESTADO   \n",
      "...         ...                  ...             ...              ...   \n",
      "1600 2020-09-21             LEISTUNG          PARANA        MUNICIPIO   \n",
      "1601 2020-09-21             LEISTUNG          PARANA        MUNICIPIO   \n",
      "1602 2020-09-24                  KTK          PARANA        MUNICIPIO   \n",
      "1603 2020-09-24  VYAIRE LTV 2200 USA          PARANA        MUNICIPIO   \n",
      "1604 2020-07-08             MAGNAMED          LIBANO                -   \n",
      "\n",
      "                TIPO  QUANTIDADE       VALOR  \\\n",
      "0                UTI          40   2400000.0   \n",
      "1                UTI          20   1200000.0   \n",
      "2                UTI          25   1500000.0   \n",
      "3                UTI          15    900000.0   \n",
      "4                UTI           6    360000.0   \n",
      "...              ...         ...         ...   \n",
      "1600             UTI           5    300000.0   \n",
      "1601             UTI           1     60000.0   \n",
      "1602             UTI           2    120000.0   \n",
      "1603  TRANSPORTE USA           1     63125.0   \n",
      "1604      TRANSPORTE         300  14487000.0   \n",
      "\n",
      "                                           DESTINATARIO  UF  \n",
      "0     ALMOXARIFADO ESTADUAL DE MEDICAMENTOS - RIO DE...  RJ  \n",
      "1       LABORATÓRIO QUÍMICO FARMACÊUTICO DE AERONÁUTICA  RJ  \n",
      "2     ALMOXARIFADO ESTADUAL DE MEDICAMENTOS - RIO DE...  RJ  \n",
      "3     ALMOXARIFADO ESTADUAL DE MEDICAMENTOS - RIO DE...  RJ  \n",
      "4     ALMOXARIFADO ESTADUAL DE MEDICAMENTOS - RIO DE...  RJ  \n",
      "...                                                 ...  ..  \n",
      "1600                                   SMS de RIO NEGRO  PR  \n",
      "1601                                     SMS de IBIPORA  PR  \n",
      "1602                                      SMS de GUAIRA  PR  \n",
      "1603                                      SMS de GUAIRA  PR  \n",
      "1604             MISSÃO FAB (Doação Destino ao Libano).   -  \n",
      "\n",
      "[1605 rows x 9 columns]\n"
     ]
    }
   ],
   "metadata": {}
  },
  {
   "cell_type": "code",
   "execution_count": 8,
   "source": [
    "df['TIPO'].unique()\n"
   ],
   "outputs": [
    {
     "output_type": "execute_result",
     "data": {
      "text/plain": [
       "array(['UTI', 'TRANSPORTE', 'TRANSPORTE USA', 'Transporte'], dtype=object)"
      ]
     },
     "metadata": {},
     "execution_count": 8
    }
   ],
   "metadata": {}
  },
  {
   "cell_type": "code",
   "execution_count": 9,
   "source": [
    "df['DESTINATARIO'].unique().size\n"
   ],
   "outputs": [
    {
     "output_type": "execute_result",
     "data": {
      "text/plain": [
       "944"
      ]
     },
     "metadata": {},
     "execution_count": 9
    }
   ],
   "metadata": {}
  },
  {
   "cell_type": "code",
   "execution_count": 10,
   "source": [
    "df.dtypes\n"
   ],
   "outputs": [
    {
     "output_type": "execute_result",
     "data": {
      "text/plain": [
       "DATA                datetime64[ns]\n",
       "FORNECEDOR                  object\n",
       "DESTINO                     object\n",
       "ESTADO/MUNICIPIO            object\n",
       "TIPO                        object\n",
       "QUANTIDADE                   int64\n",
       "VALOR                      float64\n",
       "DESTINATARIO                object\n",
       "UF                          object\n",
       "dtype: object"
      ]
     },
     "metadata": {},
     "execution_count": 10
    }
   ],
   "metadata": {}
  },
  {
   "cell_type": "markdown",
   "source": [
    "## Ex6_3"
   ],
   "metadata": {}
  },
  {
   "cell_type": "code",
   "execution_count": 11,
   "source": [
    "df.to_csv('respirators_distribution_Brazil-modified.csv', index = False, sep = ';')"
   ],
   "outputs": [],
   "metadata": {}
  },
  {
   "cell_type": "markdown",
   "source": [
    "## Ex6_4"
   ],
   "metadata": {}
  },
  {
   "cell_type": "code",
   "execution_count": 12,
   "source": [
    "df.to_excel('respirators_distribution_Brazil-modified.xlsx')"
   ],
   "outputs": [],
   "metadata": {}
  },
  {
   "cell_type": "code",
   "execution_count": null,
   "source": [],
   "outputs": [],
   "metadata": {}
  }
 ],
 "metadata": {
  "orig_nbformat": 4,
  "language_info": {
   "name": "python",
   "version": "3.8.5",
   "mimetype": "text/x-python",
   "codemirror_mode": {
    "name": "ipython",
    "version": 3
   },
   "pygments_lexer": "ipython3",
   "nbconvert_exporter": "python",
   "file_extension": ".py"
  },
  "kernelspec": {
   "name": "python3",
   "display_name": "Python 3.8.5 64-bit ('DataScience': conda)"
  },
  "interpreter": {
   "hash": "fc3dc48ea61c8fa3040668c16766cca4cbc4448de8c8527955c28045cb69eaa2"
  }
 },
 "nbformat": 4,
 "nbformat_minor": 2
}