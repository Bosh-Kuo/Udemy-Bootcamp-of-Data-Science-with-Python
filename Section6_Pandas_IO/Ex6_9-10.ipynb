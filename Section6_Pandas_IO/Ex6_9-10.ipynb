{
 "cells": [
  {
   "cell_type": "markdown",
   "source": [
    "## Ex6_9"
   ],
   "metadata": {}
  },
  {
   "cell_type": "code",
   "execution_count": 3,
   "source": [
    "import pandas as pd\n",
    "\n",
    "df = pd.read_csv('FAOSTAT_data_12-5-2020.csv')\n",
    "print(df)\n",
    "print(\"\\nshape of df:\", df.shape)\n"
   ],
   "outputs": [
    {
     "output_type": "stream",
     "name": "stdout",
     "text": [
      "   Domain Code Domain  Area Code                      Area  Element Code  \\\n",
      "0           QC  Crops          9                 Argentina          5419   \n",
      "1           QC  Crops          9                 Argentina          5419   \n",
      "2           QC  Crops          9                 Argentina          5419   \n",
      "3           QC  Crops          9                 Argentina          5510   \n",
      "4           QC  Crops          9                 Argentina          5510   \n",
      "..         ...    ...        ...                       ...           ...   \n",
      "61          QC  Crops        231  United States of America          5419   \n",
      "62          QC  Crops        231  United States of America          5419   \n",
      "63          QC  Crops        231  United States of America          5510   \n",
      "64          QC  Crops        231  United States of America          5510   \n",
      "65          QC  Crops        231  United States of America          5510   \n",
      "\n",
      "       Element  Item Code      Item  Year Code  Year    Unit     Value Flag  \\\n",
      "0        Yield        515    Apples       2016  2016   hg/ha    223912   Fc   \n",
      "1        Yield        515    Apples       2017  2017   hg/ha    235386   Fc   \n",
      "2        Yield        515    Apples       2018  2018   hg/ha    213072   Fc   \n",
      "3   Production        515    Apples       2016  2016  tonnes    458908  NaN   \n",
      "4   Production        515    Apples       2017  2017  tonnes    458908  NaN   \n",
      "..         ...        ...       ...        ...   ...     ...       ...  ...   \n",
      "61       Yield        388  Tomatoes       2017  2017   hg/ha    886625   Fc   \n",
      "62       Yield        388  Tomatoes       2018  2018   hg/ha    968079   Fc   \n",
      "63  Production        388  Tomatoes       2016  2016  tonnes  12877049  NaN   \n",
      "64  Production        388  Tomatoes       2017  2017  tonnes  11141862  NaN   \n",
      "65  Production        388  Tomatoes       2018  2018  tonnes  12612139  NaN   \n",
      "\n",
      "   Flag Description  \n",
      "0   Calculated data  \n",
      "1   Calculated data  \n",
      "2   Calculated data  \n",
      "3     Official data  \n",
      "4     Official data  \n",
      "..              ...  \n",
      "61  Calculated data  \n",
      "62  Calculated data  \n",
      "63    Official data  \n",
      "64    Official data  \n",
      "65    Official data  \n",
      "\n",
      "[66 rows x 14 columns]\n",
      "\n",
      "shape of df: (66, 14)\n"
     ]
    }
   ],
   "metadata": {}
  },
  {
   "cell_type": "code",
   "execution_count": 4,
   "source": [
    "print(\"dataset information\\n\")\n",
    "print(df.info())\n"
   ],
   "outputs": [
    {
     "output_type": "stream",
     "name": "stdout",
     "text": [
      "dataset information\n",
      "\n",
      "<class 'pandas.core.frame.DataFrame'>\n",
      "RangeIndex: 66 entries, 0 to 65\n",
      "Data columns (total 14 columns):\n",
      " #   Column            Non-Null Count  Dtype \n",
      "---  ------            --------------  ----- \n",
      " 0   Domain Code       66 non-null     object\n",
      " 1   Domain            66 non-null     object\n",
      " 2   Area Code         66 non-null     int64 \n",
      " 3   Area              66 non-null     object\n",
      " 4   Element Code      66 non-null     int64 \n",
      " 5   Element           66 non-null     object\n",
      " 6   Item Code         66 non-null     int64 \n",
      " 7   Item              66 non-null     object\n",
      " 8   Year Code         66 non-null     int64 \n",
      " 9   Year              66 non-null     int64 \n",
      " 10  Unit              66 non-null     object\n",
      " 11  Value             66 non-null     int64 \n",
      " 12  Flag              43 non-null     object\n",
      " 13  Flag Description  66 non-null     object\n",
      "dtypes: int64(6), object(8)\n",
      "memory usage: 7.3+ KB\n",
      "None\n"
     ]
    }
   ],
   "metadata": {}
  },
  {
   "cell_type": "code",
   "execution_count": 5,
   "source": [
    "print(\"data type for each column\\n\")\n",
    "print(df.dtypes)"
   ],
   "outputs": [
    {
     "output_type": "stream",
     "name": "stdout",
     "text": [
      "data type for each column\n",
      "\n",
      "Domain Code         object\n",
      "Domain              object\n",
      "Area Code            int64\n",
      "Area                object\n",
      "Element Code         int64\n",
      "Element             object\n",
      "Item Code            int64\n",
      "Item                object\n",
      "Year Code            int64\n",
      "Year                 int64\n",
      "Unit                object\n",
      "Value                int64\n",
      "Flag                object\n",
      "Flag Description    object\n",
      "dtype: object\n"
     ]
    }
   ],
   "metadata": {}
  },
  {
   "cell_type": "code",
   "execution_count": 6,
   "source": [
    "columns = ['Domain Code', \n",
    "           'Domain', \n",
    "           'Area Code',\n",
    "           'Element Code',\n",
    "           'Item Code',\n",
    "           'Year Code', \n",
    "           'Flag', \n",
    "           'Flag Description']\n",
    "df.drop(columns , axis = 1, inplace = True)"
   ],
   "outputs": [],
   "metadata": {}
  },
  {
   "cell_type": "code",
   "execution_count": 7,
   "source": [
    "print(\"data type for each column after delete some columns\\n\")\n",
    "print(df.dtypes)"
   ],
   "outputs": [
    {
     "output_type": "stream",
     "name": "stdout",
     "text": [
      "data type for each column after delete some columns\n",
      "\n",
      "Area       object\n",
      "Element    object\n",
      "Item       object\n",
      "Year        int64\n",
      "Unit       object\n",
      "Value       int64\n",
      "dtype: object\n"
     ]
    }
   ],
   "metadata": {}
  },
  {
   "cell_type": "code",
   "execution_count": 8,
   "source": [
    "df = df.astype({'Value':float})\n",
    "print(\"data type Value\\n\")\n",
    "print(df.dtypes)\n"
   ],
   "outputs": [
    {
     "output_type": "stream",
     "name": "stdout",
     "text": [
      "data type Value\n",
      "\n",
      "Area        object\n",
      "Element     object\n",
      "Item        object\n",
      "Year         int64\n",
      "Unit        object\n",
      "Value      float64\n",
      "dtype: object\n"
     ]
    }
   ],
   "metadata": {}
  },
  {
   "cell_type": "markdown",
   "source": [
    "## EX6_10"
   ],
   "metadata": {}
  },
  {
   "cell_type": "code",
   "execution_count": 9,
   "source": [
    "df.to_csv('FAOSTAT-modified.csv', index = False)"
   ],
   "outputs": [],
   "metadata": {}
  },
  {
   "cell_type": "code",
   "execution_count": null,
   "source": [],
   "outputs": [],
   "metadata": {}
  }
 ],
 "metadata": {
  "orig_nbformat": 4,
  "language_info": {
   "name": "python",
   "version": "3.8.5",
   "mimetype": "text/x-python",
   "codemirror_mode": {
    "name": "ipython",
    "version": 3
   },
   "pygments_lexer": "ipython3",
   "nbconvert_exporter": "python",
   "file_extension": ".py"
  },
  "kernelspec": {
   "name": "python3",
   "display_name": "Python 3.8.5 64-bit ('DataScience': conda)"
  },
  "interpreter": {
   "hash": "fc3dc48ea61c8fa3040668c16766cca4cbc4448de8c8527955c28045cb69eaa2"
  }
 },
 "nbformat": 4,
 "nbformat_minor": 2
}